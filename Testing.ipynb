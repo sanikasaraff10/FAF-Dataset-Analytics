{
 "cells": [
  {
   "cell_type": "markdown",
   "id": "fbd48489",
   "metadata": {},
   "source": [
    "### Data Cleaning Player Stats file "
   ]
  },
  {
   "cell_type": "code",
   "execution_count": 94,
   "id": "267d5f49",
   "metadata": {},
   "outputs": [],
   "source": [
    "import pandas as pd\n",
    "import numpy as np\n",
    "from pandas_profiling import ProfileReport\n",
    "import os\n",
    "from pandas import DataFrame\n",
    "import datetime\n",
    "import matplotlib.pyplot as plt"
   ]
  },
  {
   "cell_type": "code",
   "execution_count": 2,
   "id": "577d29b4",
   "metadata": {},
   "outputs": [
    {
     "name": "stderr",
     "output_type": "stream",
     "text": [
      "/var/folders/cp/9jtgx6ps6ldg63161fmh4z840000gn/T/ipykernel_10885/1619808696.py:2: DtypeWarning: Columns (19) have mixed types. Specify dtype option on import or set low_memory=False.\n",
      "  df_pstats = pd.read_csv('playerstats.csv')\n"
     ]
    }
   ],
   "source": [
    "# Reading player statistics file\n",
    "df_pstats = pd.read_csv('playerstats.csv')"
   ]
  },
  {
   "cell_type": "code",
   "execution_count": 3,
   "id": "0a3f6960",
   "metadata": {},
   "outputs": [
    {
     "data": {
      "text/plain": [
       "(32200183, 20)"
      ]
     },
     "execution_count": 3,
     "metadata": {},
     "output_type": "execute_result"
    }
   ],
   "source": [
    "df_pstats.shape"
   ]
  },
  {
   "cell_type": "code",
   "execution_count": 4,
   "id": "646fce1d",
   "metadata": {},
   "outputs": [
    {
     "data": {
      "text/html": [
       "<div>\n",
       "<style scoped>\n",
       "    .dataframe tbody tr th:only-of-type {\n",
       "        vertical-align: middle;\n",
       "    }\n",
       "\n",
       "    .dataframe tbody tr th {\n",
       "        vertical-align: top;\n",
       "    }\n",
       "\n",
       "    .dataframe thead th {\n",
       "        text-align: right;\n",
       "    }\n",
       "</style>\n",
       "<table border=\"1\" class=\"dataframe\">\n",
       "  <thead>\n",
       "    <tr style=\"text-align: right;\">\n",
       "      <th></th>\n",
       "      <th>game_id</th>\n",
       "      <th>game_start_time</th>\n",
       "      <th>game_duration_minutes</th>\n",
       "      <th>game_validity</th>\n",
       "      <th>game_featuremod_name</th>\n",
       "      <th>game_total_players</th>\n",
       "      <th>map_id</th>\n",
       "      <th>map_name</th>\n",
       "      <th>map_width</th>\n",
       "      <th>map_height</th>\n",
       "      <th>player_id</th>\n",
       "      <th>player_login</th>\n",
       "      <th>player_faction</th>\n",
       "      <th>player_team</th>\n",
       "      <th>player_starting_spot</th>\n",
       "      <th>player_result</th>\n",
       "      <th>player_is_computer</th>\n",
       "      <th>before_rating</th>\n",
       "      <th>after_rating</th>\n",
       "      <th>leaderboard_ids</th>\n",
       "    </tr>\n",
       "  </thead>\n",
       "  <tbody>\n",
       "    <tr>\n",
       "      <th>0</th>\n",
       "      <td>17405720</td>\n",
       "      <td>2022-06-30 23:59:58 UTC</td>\n",
       "      <td>30.7</td>\n",
       "      <td>UNKNOWN_RESULT</td>\n",
       "      <td>FAF</td>\n",
       "      <td>1</td>\n",
       "      <td>21833.0</td>\n",
       "      <td>Hold the line</td>\n",
       "      <td>2048.0</td>\n",
       "      <td>2048.0</td>\n",
       "      <td>431007</td>\n",
       "      <td>Walgreens</td>\n",
       "      <td>UEF</td>\n",
       "      <td>3</td>\n",
       "      <td>1</td>\n",
       "      <td>UNKNOWN</td>\n",
       "      <td>False</td>\n",
       "      <td>0.0</td>\n",
       "      <td>NaN</td>\n",
       "      <td>NaN</td>\n",
       "    </tr>\n",
       "    <tr>\n",
       "      <th>1</th>\n",
       "      <td>17405711</td>\n",
       "      <td>2022-06-30 23:59:44 UTC</td>\n",
       "      <td>30.2</td>\n",
       "      <td>COOP_NOT_RANKED</td>\n",
       "      <td>Coop</td>\n",
       "      <td>1</td>\n",
       "      <td>NaN</td>\n",
       "      <td>NaN</td>\n",
       "      <td>NaN</td>\n",
       "      <td>NaN</td>\n",
       "      <td>96808</td>\n",
       "      <td>Starcruiser</td>\n",
       "      <td>Cybran</td>\n",
       "      <td>1</td>\n",
       "      <td>1</td>\n",
       "      <td>UNKNOWN</td>\n",
       "      <td>False</td>\n",
       "      <td>0.0</td>\n",
       "      <td>NaN</td>\n",
       "      <td>NaN</td>\n",
       "    </tr>\n",
       "    <tr>\n",
       "      <th>2</th>\n",
       "      <td>17405650</td>\n",
       "      <td>2022-06-30 23:58:34 UTC</td>\n",
       "      <td>48.0</td>\n",
       "      <td>VALID</td>\n",
       "      <td>FAF</td>\n",
       "      <td>12</td>\n",
       "      <td>14570.0</td>\n",
       "      <td>Desert Gap</td>\n",
       "      <td>1024.0</td>\n",
       "      <td>1024.0</td>\n",
       "      <td>303409</td>\n",
       "      <td>ourubapu</td>\n",
       "      <td>UEF</td>\n",
       "      <td>3</td>\n",
       "      <td>3</td>\n",
       "      <td>DEFEAT</td>\n",
       "      <td>False</td>\n",
       "      <td>163.3</td>\n",
       "      <td>159.7</td>\n",
       "      <td>1</td>\n",
       "    </tr>\n",
       "    <tr>\n",
       "      <th>3</th>\n",
       "      <td>17405650</td>\n",
       "      <td>2022-06-30 23:58:34 UTC</td>\n",
       "      <td>48.0</td>\n",
       "      <td>VALID</td>\n",
       "      <td>FAF</td>\n",
       "      <td>12</td>\n",
       "      <td>14570.0</td>\n",
       "      <td>Desert Gap</td>\n",
       "      <td>1024.0</td>\n",
       "      <td>1024.0</td>\n",
       "      <td>436692</td>\n",
       "      <td>Enzord_Rocka</td>\n",
       "      <td>UEF</td>\n",
       "      <td>2</td>\n",
       "      <td>11</td>\n",
       "      <td>DEFEAT</td>\n",
       "      <td>False</td>\n",
       "      <td>686.7</td>\n",
       "      <td>692.4</td>\n",
       "      <td>1</td>\n",
       "    </tr>\n",
       "    <tr>\n",
       "      <th>4</th>\n",
       "      <td>17405650</td>\n",
       "      <td>2022-06-30 23:58:34 UTC</td>\n",
       "      <td>48.0</td>\n",
       "      <td>VALID</td>\n",
       "      <td>FAF</td>\n",
       "      <td>12</td>\n",
       "      <td>14570.0</td>\n",
       "      <td>Desert Gap</td>\n",
       "      <td>1024.0</td>\n",
       "      <td>1024.0</td>\n",
       "      <td>17943</td>\n",
       "      <td>Defiant</td>\n",
       "      <td>UEF</td>\n",
       "      <td>3</td>\n",
       "      <td>5</td>\n",
       "      <td>DEFEAT</td>\n",
       "      <td>False</td>\n",
       "      <td>1082.8</td>\n",
       "      <td>1078.0</td>\n",
       "      <td>1</td>\n",
       "    </tr>\n",
       "  </tbody>\n",
       "</table>\n",
       "</div>"
      ],
      "text/plain": [
       "    game_id          game_start_time  game_duration_minutes    game_validity  \\\n",
       "0  17405720  2022-06-30 23:59:58 UTC                   30.7   UNKNOWN_RESULT   \n",
       "1  17405711  2022-06-30 23:59:44 UTC                   30.2  COOP_NOT_RANKED   \n",
       "2  17405650  2022-06-30 23:58:34 UTC                   48.0            VALID   \n",
       "3  17405650  2022-06-30 23:58:34 UTC                   48.0            VALID   \n",
       "4  17405650  2022-06-30 23:58:34 UTC                   48.0            VALID   \n",
       "\n",
       "  game_featuremod_name  game_total_players   map_id       map_name  map_width  \\\n",
       "0                  FAF                   1  21833.0  Hold the line     2048.0   \n",
       "1                 Coop                   1      NaN            NaN        NaN   \n",
       "2                  FAF                  12  14570.0     Desert Gap     1024.0   \n",
       "3                  FAF                  12  14570.0     Desert Gap     1024.0   \n",
       "4                  FAF                  12  14570.0     Desert Gap     1024.0   \n",
       "\n",
       "   map_height  player_id  player_login player_faction  player_team  \\\n",
       "0      2048.0     431007     Walgreens            UEF            3   \n",
       "1         NaN      96808   Starcruiser         Cybran            1   \n",
       "2      1024.0     303409      ourubapu            UEF            3   \n",
       "3      1024.0     436692  Enzord_Rocka            UEF            2   \n",
       "4      1024.0      17943       Defiant            UEF            3   \n",
       "\n",
       "   player_starting_spot player_result  player_is_computer  before_rating  \\\n",
       "0                     1       UNKNOWN               False            0.0   \n",
       "1                     1       UNKNOWN               False            0.0   \n",
       "2                     3        DEFEAT               False          163.3   \n",
       "3                    11        DEFEAT               False          686.7   \n",
       "4                     5        DEFEAT               False         1082.8   \n",
       "\n",
       "   after_rating leaderboard_ids  \n",
       "0           NaN             NaN  \n",
       "1           NaN             NaN  \n",
       "2         159.7               1  \n",
       "3         692.4               1  \n",
       "4        1078.0               1  "
      ]
     },
     "execution_count": 4,
     "metadata": {},
     "output_type": "execute_result"
    }
   ],
   "source": [
    "df_pstats.head()"
   ]
  },
  {
   "cell_type": "code",
   "execution_count": 5,
   "id": "a270361f",
   "metadata": {},
   "outputs": [],
   "source": [
    "# Dropping unnecessary columns\n",
    "to_drop_play = ['leaderboard_ids','game_duration_minutes','player_starting_spot']\n",
    "df_pstats.drop(to_drop_play,axis = 1, inplace= True)"
   ]
  },
  {
   "cell_type": "code",
   "execution_count": 6,
   "id": "43075c05",
   "metadata": {},
   "outputs": [],
   "source": [
    "# Renaming columns\n",
    "df_pstats.rename(columns={'player_faction':'faction'},inplace=True)"
   ]
  },
  {
   "cell_type": "code",
   "execution_count": 7,
   "id": "d12ca878",
   "metadata": {},
   "outputs": [
    {
     "data": {
      "text/plain": [
       "game_id                        0\n",
       "game_start_time                0\n",
       "game_validity                  0\n",
       "game_featuremod_name           0\n",
       "game_total_players             0\n",
       "map_id                   2564564\n",
       "map_name                 2564564\n",
       "map_width                2564564\n",
       "map_height               2564564\n",
       "player_id                      0\n",
       "player_login                 557\n",
       "faction                        0\n",
       "player_team                    0\n",
       "player_result                  0\n",
       "player_is_computer             0\n",
       "before_rating                  0\n",
       "after_rating            18327390\n",
       "dtype: int64"
      ]
     },
     "execution_count": 7,
     "metadata": {},
     "output_type": "execute_result"
    }
   ],
   "source": [
    "# Finding nulls\n",
    "df_pstats.isnull().sum()"
   ]
  },
  {
   "cell_type": "markdown",
   "id": "a1524f85",
   "metadata": {},
   "source": [
    "map_id : -1\n",
    "map_name : Unknown\n",
    "map_width : -1\n",
    "map_height : -1\n",
    "player_login : Unknown\n",
    "after_rating : 99999999"
   ]
  },
  {
   "cell_type": "code",
   "execution_count": 8,
   "id": "6e1cac14",
   "metadata": {},
   "outputs": [
    {
     "data": {
      "text/plain": [
       "False"
      ]
     },
     "execution_count": 8,
     "metadata": {},
     "output_type": "execute_result"
    }
   ],
   "source": [
    "#setting unknown mapids to 99999999\n",
    "-1 in df_pstats['map_id']"
   ]
  },
  {
   "cell_type": "code",
   "execution_count": 9,
   "id": "95ed234a",
   "metadata": {},
   "outputs": [],
   "source": [
    "df_pstats[\"map_id\"].replace(to_replace=np.nan,value=-1,inplace=True)"
   ]
  },
  {
   "cell_type": "code",
   "execution_count": 10,
   "id": "4afb4fc8",
   "metadata": {},
   "outputs": [
    {
     "data": {
      "text/plain": [
       "False"
      ]
     },
     "execution_count": 10,
     "metadata": {},
     "output_type": "execute_result"
    }
   ],
   "source": [
    "\"Unknown\" in df_pstats['map_name']"
   ]
  },
  {
   "cell_type": "code",
   "execution_count": 11,
   "id": "912509a3",
   "metadata": {},
   "outputs": [],
   "source": [
    "df_pstats[\"map_name\"].replace(to_replace=np.nan,value=\"Unknown\",inplace=True)"
   ]
  },
  {
   "cell_type": "code",
   "execution_count": 12,
   "id": "64af4c08",
   "metadata": {},
   "outputs": [
    {
     "data": {
      "text/plain": [
       "False"
      ]
     },
     "execution_count": 12,
     "metadata": {},
     "output_type": "execute_result"
    }
   ],
   "source": [
    "-1 in df_pstats['map_width']"
   ]
  },
  {
   "cell_type": "code",
   "execution_count": 13,
   "id": "95f3ca5d",
   "metadata": {},
   "outputs": [],
   "source": [
    "df_pstats[\"map_width\"].replace(to_replace=np.nan,value=-1,inplace=True)"
   ]
  },
  {
   "cell_type": "code",
   "execution_count": 14,
   "id": "a886d9fc",
   "metadata": {},
   "outputs": [
    {
     "data": {
      "text/plain": [
       "False"
      ]
     },
     "execution_count": 14,
     "metadata": {},
     "output_type": "execute_result"
    }
   ],
   "source": [
    "-1 in df_pstats['map_height']"
   ]
  },
  {
   "cell_type": "code",
   "execution_count": 15,
   "id": "916f1dd5",
   "metadata": {},
   "outputs": [],
   "source": [
    "df_pstats[\"map_height\"].replace(to_replace=np.nan,value=-1,inplace=True)"
   ]
  },
  {
   "cell_type": "code",
   "execution_count": 16,
   "id": "cbabad97",
   "metadata": {},
   "outputs": [
    {
     "data": {
      "text/plain": [
       "False"
      ]
     },
     "execution_count": 16,
     "metadata": {},
     "output_type": "execute_result"
    }
   ],
   "source": [
    "\"Unknown\" in df_pstats['player_login']"
   ]
  },
  {
   "cell_type": "code",
   "execution_count": 17,
   "id": "3b163a92",
   "metadata": {},
   "outputs": [],
   "source": [
    "df_pstats[\"player_login\"].replace(to_replace=np.nan,value=\"Unknown\",inplace=True)"
   ]
  },
  {
   "cell_type": "code",
   "execution_count": 18,
   "id": "e60b1eca",
   "metadata": {},
   "outputs": [
    {
     "data": {
      "text/plain": [
       "False"
      ]
     },
     "execution_count": 18,
     "metadata": {},
     "output_type": "execute_result"
    }
   ],
   "source": [
    "99999999 in df_pstats['after_rating']"
   ]
  },
  {
   "cell_type": "code",
   "execution_count": 19,
   "id": "a512e2d4",
   "metadata": {},
   "outputs": [],
   "source": [
    "df_pstats[\"after_rating\"].replace(to_replace=np.nan,value=99999999,inplace=True)"
   ]
  },
  {
   "cell_type": "code",
   "execution_count": 20,
   "id": "cc89be68",
   "metadata": {},
   "outputs": [],
   "source": [
    "df_pstats['timezone'] = df_pstats['game_start_time'].apply(lambda x : x.split(\" \")[-1])"
   ]
  },
  {
   "cell_type": "code",
   "execution_count": 21,
   "id": "73221869",
   "metadata": {},
   "outputs": [],
   "source": [
    "df_pstats['start_date'] = df_pstats['game_start_time'].apply(lambda x : x.split(\" \")[0])"
   ]
  },
  {
   "cell_type": "code",
   "execution_count": 22,
   "id": "9fe5a07f",
   "metadata": {},
   "outputs": [],
   "source": [
    "df_pstats['start_time'] = df_pstats['game_start_time'].apply(lambda x : x.split(\" \")[1])"
   ]
  },
  {
   "cell_type": "code",
   "execution_count": 23,
   "id": "9f42a7e0",
   "metadata": {},
   "outputs": [],
   "source": [
    "df_pstats['start_year'] = df_pstats['game_start_time'].apply(lambda x : x.split(\"-\")[0])"
   ]
  },
  {
   "cell_type": "code",
   "execution_count": 24,
   "id": "1507e1e4",
   "metadata": {},
   "outputs": [],
   "source": [
    "df_pstats['start_date'] = pd.to_datetime(df_pstats['start_date'],errors='coerce')"
   ]
  },
  {
   "cell_type": "code",
   "execution_count": 25,
   "id": "6cb284fc",
   "metadata": {},
   "outputs": [],
   "source": [
    "df_pstats[\"start_month\"] = df_pstats[\"start_date\"].dt.month_name()"
   ]
  },
  {
   "cell_type": "code",
   "execution_count": 26,
   "id": "73b2894e",
   "metadata": {},
   "outputs": [
    {
     "data": {
      "text/html": [
       "<div>\n",
       "<style scoped>\n",
       "    .dataframe tbody tr th:only-of-type {\n",
       "        vertical-align: middle;\n",
       "    }\n",
       "\n",
       "    .dataframe tbody tr th {\n",
       "        vertical-align: top;\n",
       "    }\n",
       "\n",
       "    .dataframe thead th {\n",
       "        text-align: right;\n",
       "    }\n",
       "</style>\n",
       "<table border=\"1\" class=\"dataframe\">\n",
       "  <thead>\n",
       "    <tr style=\"text-align: right;\">\n",
       "      <th></th>\n",
       "      <th>game_id</th>\n",
       "      <th>game_start_time</th>\n",
       "      <th>game_validity</th>\n",
       "      <th>game_featuremod_name</th>\n",
       "      <th>game_total_players</th>\n",
       "      <th>map_id</th>\n",
       "      <th>map_name</th>\n",
       "      <th>map_width</th>\n",
       "      <th>map_height</th>\n",
       "      <th>player_id</th>\n",
       "      <th>...</th>\n",
       "      <th>player_team</th>\n",
       "      <th>player_result</th>\n",
       "      <th>player_is_computer</th>\n",
       "      <th>before_rating</th>\n",
       "      <th>after_rating</th>\n",
       "      <th>timezone</th>\n",
       "      <th>start_date</th>\n",
       "      <th>start_time</th>\n",
       "      <th>start_year</th>\n",
       "      <th>start_month</th>\n",
       "    </tr>\n",
       "  </thead>\n",
       "  <tbody>\n",
       "    <tr>\n",
       "      <th>0</th>\n",
       "      <td>17405720</td>\n",
       "      <td>2022-06-30 23:59:58 UTC</td>\n",
       "      <td>UNKNOWN_RESULT</td>\n",
       "      <td>FAF</td>\n",
       "      <td>1</td>\n",
       "      <td>21833.0</td>\n",
       "      <td>Hold the line</td>\n",
       "      <td>2048.0</td>\n",
       "      <td>2048.0</td>\n",
       "      <td>431007</td>\n",
       "      <td>...</td>\n",
       "      <td>3</td>\n",
       "      <td>UNKNOWN</td>\n",
       "      <td>False</td>\n",
       "      <td>0.0</td>\n",
       "      <td>99999999.0</td>\n",
       "      <td>UTC</td>\n",
       "      <td>2022-06-30</td>\n",
       "      <td>23:59:58</td>\n",
       "      <td>2022</td>\n",
       "      <td>June</td>\n",
       "    </tr>\n",
       "    <tr>\n",
       "      <th>1</th>\n",
       "      <td>17405711</td>\n",
       "      <td>2022-06-30 23:59:44 UTC</td>\n",
       "      <td>COOP_NOT_RANKED</td>\n",
       "      <td>Coop</td>\n",
       "      <td>1</td>\n",
       "      <td>-1.0</td>\n",
       "      <td>Unknown</td>\n",
       "      <td>-1.0</td>\n",
       "      <td>-1.0</td>\n",
       "      <td>96808</td>\n",
       "      <td>...</td>\n",
       "      <td>1</td>\n",
       "      <td>UNKNOWN</td>\n",
       "      <td>False</td>\n",
       "      <td>0.0</td>\n",
       "      <td>99999999.0</td>\n",
       "      <td>UTC</td>\n",
       "      <td>2022-06-30</td>\n",
       "      <td>23:59:44</td>\n",
       "      <td>2022</td>\n",
       "      <td>June</td>\n",
       "    </tr>\n",
       "    <tr>\n",
       "      <th>2</th>\n",
       "      <td>17405650</td>\n",
       "      <td>2022-06-30 23:58:34 UTC</td>\n",
       "      <td>VALID</td>\n",
       "      <td>FAF</td>\n",
       "      <td>12</td>\n",
       "      <td>14570.0</td>\n",
       "      <td>Desert Gap</td>\n",
       "      <td>1024.0</td>\n",
       "      <td>1024.0</td>\n",
       "      <td>303409</td>\n",
       "      <td>...</td>\n",
       "      <td>3</td>\n",
       "      <td>DEFEAT</td>\n",
       "      <td>False</td>\n",
       "      <td>163.3</td>\n",
       "      <td>159.7</td>\n",
       "      <td>UTC</td>\n",
       "      <td>2022-06-30</td>\n",
       "      <td>23:58:34</td>\n",
       "      <td>2022</td>\n",
       "      <td>June</td>\n",
       "    </tr>\n",
       "    <tr>\n",
       "      <th>3</th>\n",
       "      <td>17405650</td>\n",
       "      <td>2022-06-30 23:58:34 UTC</td>\n",
       "      <td>VALID</td>\n",
       "      <td>FAF</td>\n",
       "      <td>12</td>\n",
       "      <td>14570.0</td>\n",
       "      <td>Desert Gap</td>\n",
       "      <td>1024.0</td>\n",
       "      <td>1024.0</td>\n",
       "      <td>436692</td>\n",
       "      <td>...</td>\n",
       "      <td>2</td>\n",
       "      <td>DEFEAT</td>\n",
       "      <td>False</td>\n",
       "      <td>686.7</td>\n",
       "      <td>692.4</td>\n",
       "      <td>UTC</td>\n",
       "      <td>2022-06-30</td>\n",
       "      <td>23:58:34</td>\n",
       "      <td>2022</td>\n",
       "      <td>June</td>\n",
       "    </tr>\n",
       "    <tr>\n",
       "      <th>4</th>\n",
       "      <td>17405650</td>\n",
       "      <td>2022-06-30 23:58:34 UTC</td>\n",
       "      <td>VALID</td>\n",
       "      <td>FAF</td>\n",
       "      <td>12</td>\n",
       "      <td>14570.0</td>\n",
       "      <td>Desert Gap</td>\n",
       "      <td>1024.0</td>\n",
       "      <td>1024.0</td>\n",
       "      <td>17943</td>\n",
       "      <td>...</td>\n",
       "      <td>3</td>\n",
       "      <td>DEFEAT</td>\n",
       "      <td>False</td>\n",
       "      <td>1082.8</td>\n",
       "      <td>1078.0</td>\n",
       "      <td>UTC</td>\n",
       "      <td>2022-06-30</td>\n",
       "      <td>23:58:34</td>\n",
       "      <td>2022</td>\n",
       "      <td>June</td>\n",
       "    </tr>\n",
       "  </tbody>\n",
       "</table>\n",
       "<p>5 rows × 22 columns</p>\n",
       "</div>"
      ],
      "text/plain": [
       "    game_id          game_start_time    game_validity game_featuremod_name  \\\n",
       "0  17405720  2022-06-30 23:59:58 UTC   UNKNOWN_RESULT                  FAF   \n",
       "1  17405711  2022-06-30 23:59:44 UTC  COOP_NOT_RANKED                 Coop   \n",
       "2  17405650  2022-06-30 23:58:34 UTC            VALID                  FAF   \n",
       "3  17405650  2022-06-30 23:58:34 UTC            VALID                  FAF   \n",
       "4  17405650  2022-06-30 23:58:34 UTC            VALID                  FAF   \n",
       "\n",
       "   game_total_players   map_id       map_name  map_width  map_height  \\\n",
       "0                   1  21833.0  Hold the line     2048.0      2048.0   \n",
       "1                   1     -1.0        Unknown       -1.0        -1.0   \n",
       "2                  12  14570.0     Desert Gap     1024.0      1024.0   \n",
       "3                  12  14570.0     Desert Gap     1024.0      1024.0   \n",
       "4                  12  14570.0     Desert Gap     1024.0      1024.0   \n",
       "\n",
       "   player_id  ... player_team player_result  player_is_computer before_rating  \\\n",
       "0     431007  ...           3       UNKNOWN               False           0.0   \n",
       "1      96808  ...           1       UNKNOWN               False           0.0   \n",
       "2     303409  ...           3        DEFEAT               False         163.3   \n",
       "3     436692  ...           2        DEFEAT               False         686.7   \n",
       "4      17943  ...           3        DEFEAT               False        1082.8   \n",
       "\n",
       "   after_rating  timezone  start_date start_time start_year start_month  \n",
       "0    99999999.0       UTC  2022-06-30   23:59:58       2022        June  \n",
       "1    99999999.0       UTC  2022-06-30   23:59:44       2022        June  \n",
       "2         159.7       UTC  2022-06-30   23:58:34       2022        June  \n",
       "3         692.4       UTC  2022-06-30   23:58:34       2022        June  \n",
       "4        1078.0       UTC  2022-06-30   23:58:34       2022        June  \n",
       "\n",
       "[5 rows x 22 columns]"
      ]
     },
     "execution_count": 26,
     "metadata": {},
     "output_type": "execute_result"
    }
   ],
   "source": [
    "df_pstats.head()"
   ]
  },
  {
   "cell_type": "code",
   "execution_count": 27,
   "id": "73206097",
   "metadata": {},
   "outputs": [
    {
     "data": {
      "text/plain": [
       "game_id                 0\n",
       "game_start_time         0\n",
       "game_validity           0\n",
       "game_featuremod_name    0\n",
       "game_total_players      0\n",
       "map_id                  0\n",
       "map_name                0\n",
       "map_width               0\n",
       "map_height              0\n",
       "player_id               0\n",
       "player_login            0\n",
       "faction                 0\n",
       "player_team             0\n",
       "player_result           0\n",
       "player_is_computer      0\n",
       "before_rating           0\n",
       "after_rating            0\n",
       "timezone                0\n",
       "start_date              0\n",
       "start_time              0\n",
       "start_year              0\n",
       "start_month             0\n",
       "dtype: int64"
      ]
     },
     "execution_count": 27,
     "metadata": {},
     "output_type": "execute_result"
    }
   ],
   "source": [
    "# Finding nulls\n",
    "df_pstats.isnull().sum()"
   ]
  },
  {
   "cell_type": "code",
   "execution_count": 28,
   "id": "72e320b4",
   "metadata": {},
   "outputs": [],
   "source": [
    "# Dropping unnecessary columns\n",
    "to_drop_play = ['game_start_time']\n",
    "df_pstats.drop(to_drop_play,axis = 1, inplace= True)"
   ]
  },
  {
   "cell_type": "markdown",
   "id": "f74932e5",
   "metadata": {},
   "source": [
    "### Testing team : player count"
   ]
  },
  {
   "cell_type": "code",
   "execution_count": 32,
   "id": "f5d3589c",
   "metadata": {},
   "outputs": [],
   "source": [
    "t = df_pstats[['player_id','player_team']]"
   ]
  },
  {
   "cell_type": "code",
   "execution_count": 46,
   "id": "b2603081",
   "metadata": {},
   "outputs": [
    {
     "name": "stderr",
     "output_type": "stream",
     "text": [
      "/var/folders/cp/9jtgx6ps6ldg63161fmh4z840000gn/T/ipykernel_10885/3295793208.py:1: SettingWithCopyWarning: \n",
      "A value is trying to be set on a copy of a slice from a DataFrame\n",
      "\n",
      "See the caveats in the documentation: https://pandas.pydata.org/pandas-docs/stable/user_guide/indexing.html#returning-a-view-versus-a-copy\n",
      "  t.drop_duplicates(inplace=True)\n"
     ]
    }
   ],
   "source": [
    "t.drop_duplicates(inplace=True)"
   ]
  },
  {
   "cell_type": "code",
   "execution_count": 47,
   "id": "a0b5eaf4",
   "metadata": {},
   "outputs": [],
   "source": [
    "t1 = t.sort_values(['player_id','player_team'],ascending=True).groupby('player_team').count().reset_index().sort_values(['player_id'],ascending=False)"
   ]
  },
  {
   "cell_type": "code",
   "execution_count": 48,
   "id": "b891cf94",
   "metadata": {},
   "outputs": [
    {
     "data": {
      "text/html": [
       "<div>\n",
       "<style scoped>\n",
       "    .dataframe tbody tr th:only-of-type {\n",
       "        vertical-align: middle;\n",
       "    }\n",
       "\n",
       "    .dataframe tbody tr th {\n",
       "        vertical-align: top;\n",
       "    }\n",
       "\n",
       "    .dataframe thead th {\n",
       "        text-align: right;\n",
       "    }\n",
       "</style>\n",
       "<table border=\"1\" class=\"dataframe\">\n",
       "  <thead>\n",
       "    <tr style=\"text-align: right;\">\n",
       "      <th></th>\n",
       "      <th>player_team</th>\n",
       "      <th>player_id</th>\n",
       "    </tr>\n",
       "  </thead>\n",
       "  <tbody>\n",
       "    <tr>\n",
       "      <th>2</th>\n",
       "      <td>1</td>\n",
       "      <td>218273</td>\n",
       "    </tr>\n",
       "    <tr>\n",
       "      <th>3</th>\n",
       "      <td>2</td>\n",
       "      <td>210786</td>\n",
       "    </tr>\n",
       "    <tr>\n",
       "      <th>4</th>\n",
       "      <td>3</td>\n",
       "      <td>134163</td>\n",
       "    </tr>\n",
       "    <tr>\n",
       "      <th>1</th>\n",
       "      <td>0</td>\n",
       "      <td>49824</td>\n",
       "    </tr>\n",
       "    <tr>\n",
       "      <th>5</th>\n",
       "      <td>4</td>\n",
       "      <td>36995</td>\n",
       "    </tr>\n",
       "    <tr>\n",
       "      <th>6</th>\n",
       "      <td>5</td>\n",
       "      <td>26537</td>\n",
       "    </tr>\n",
       "    <tr>\n",
       "      <th>7</th>\n",
       "      <td>6</td>\n",
       "      <td>21845</td>\n",
       "    </tr>\n",
       "    <tr>\n",
       "      <th>8</th>\n",
       "      <td>7</td>\n",
       "      <td>20172</td>\n",
       "    </tr>\n",
       "    <tr>\n",
       "      <th>9</th>\n",
       "      <td>8</td>\n",
       "      <td>4974</td>\n",
       "    </tr>\n",
       "    <tr>\n",
       "      <th>10</th>\n",
       "      <td>9</td>\n",
       "      <td>3887</td>\n",
       "    </tr>\n",
       "    <tr>\n",
       "      <th>11</th>\n",
       "      <td>10</td>\n",
       "      <td>1148</td>\n",
       "    </tr>\n",
       "    <tr>\n",
       "      <th>12</th>\n",
       "      <td>11</td>\n",
       "      <td>269</td>\n",
       "    </tr>\n",
       "    <tr>\n",
       "      <th>13</th>\n",
       "      <td>12</td>\n",
       "      <td>126</td>\n",
       "    </tr>\n",
       "    <tr>\n",
       "      <th>0</th>\n",
       "      <td>-1</td>\n",
       "      <td>8</td>\n",
       "    </tr>\n",
       "    <tr>\n",
       "      <th>14</th>\n",
       "      <td>13</td>\n",
       "      <td>8</td>\n",
       "    </tr>\n",
       "    <tr>\n",
       "      <th>15</th>\n",
       "      <td>14</td>\n",
       "      <td>1</td>\n",
       "    </tr>\n",
       "  </tbody>\n",
       "</table>\n",
       "</div>"
      ],
      "text/plain": [
       "    player_team  player_id\n",
       "2             1     218273\n",
       "3             2     210786\n",
       "4             3     134163\n",
       "1             0      49824\n",
       "5             4      36995\n",
       "6             5      26537\n",
       "7             6      21845\n",
       "8             7      20172\n",
       "9             8       4974\n",
       "10            9       3887\n",
       "11           10       1148\n",
       "12           11        269\n",
       "13           12        126\n",
       "0            -1          8\n",
       "14           13          8\n",
       "15           14          1"
      ]
     },
     "execution_count": 48,
     "metadata": {},
     "output_type": "execute_result"
    }
   ],
   "source": [
    "t1"
   ]
  },
  {
   "cell_type": "markdown",
   "id": "664b1ec0",
   "metadata": {},
   "source": [
    "### Testing iscomputer with player"
   ]
  },
  {
   "cell_type": "code",
   "execution_count": 50,
   "id": "599193fd",
   "metadata": {},
   "outputs": [],
   "source": [
    "t2 = df_pstats[['player_id','player_is_computer']]"
   ]
  },
  {
   "cell_type": "code",
   "execution_count": 51,
   "id": "6f35fa7b",
   "metadata": {},
   "outputs": [
    {
     "name": "stderr",
     "output_type": "stream",
     "text": [
      "/var/folders/cp/9jtgx6ps6ldg63161fmh4z840000gn/T/ipykernel_10885/186619806.py:1: SettingWithCopyWarning: \n",
      "A value is trying to be set on a copy of a slice from a DataFrame\n",
      "\n",
      "See the caveats in the documentation: https://pandas.pydata.org/pandas-docs/stable/user_guide/indexing.html#returning-a-view-versus-a-copy\n",
      "  t2.drop_duplicates(inplace=True)\n"
     ]
    }
   ],
   "source": [
    "t2.drop_duplicates(inplace=True)"
   ]
  },
  {
   "cell_type": "code",
   "execution_count": 52,
   "id": "e146e9d3",
   "metadata": {},
   "outputs": [],
   "source": [
    "test2 = t2.sort_values(['player_id','player_is_computer'],ascending=True).groupby('player_is_computer').count().reset_index().sort_values(['player_id'],ascending=False)"
   ]
  },
  {
   "cell_type": "code",
   "execution_count": 53,
   "id": "22e2c1d9",
   "metadata": {},
   "outputs": [
    {
     "data": {
      "text/html": [
       "<div>\n",
       "<style scoped>\n",
       "    .dataframe tbody tr th:only-of-type {\n",
       "        vertical-align: middle;\n",
       "    }\n",
       "\n",
       "    .dataframe tbody tr th {\n",
       "        vertical-align: top;\n",
       "    }\n",
       "\n",
       "    .dataframe thead th {\n",
       "        text-align: right;\n",
       "    }\n",
       "</style>\n",
       "<table border=\"1\" class=\"dataframe\">\n",
       "  <thead>\n",
       "    <tr style=\"text-align: right;\">\n",
       "      <th></th>\n",
       "      <th>player_is_computer</th>\n",
       "      <th>player_id</th>\n",
       "    </tr>\n",
       "  </thead>\n",
       "  <tbody>\n",
       "    <tr>\n",
       "      <th>0</th>\n",
       "      <td>False</td>\n",
       "      <td>270420</td>\n",
       "    </tr>\n",
       "    <tr>\n",
       "      <th>1</th>\n",
       "      <td>True</td>\n",
       "      <td>13</td>\n",
       "    </tr>\n",
       "  </tbody>\n",
       "</table>\n",
       "</div>"
      ],
      "text/plain": [
       "   player_is_computer  player_id\n",
       "0               False     270420\n",
       "1                True         13"
      ]
     },
     "execution_count": 53,
     "metadata": {},
     "output_type": "execute_result"
    }
   ],
   "source": [
    "test2"
   ]
  },
  {
   "cell_type": "markdown",
   "id": "27abb796",
   "metadata": {},
   "source": [
    "### Testing game with featuremod"
   ]
  },
  {
   "cell_type": "code",
   "execution_count": 54,
   "id": "3820d33e",
   "metadata": {},
   "outputs": [],
   "source": [
    "t_game = df_pstats[['game_id','game_featuremod_name']]"
   ]
  },
  {
   "cell_type": "code",
   "execution_count": 55,
   "id": "1cfa9aed",
   "metadata": {
    "collapsed": true
   },
   "outputs": [
    {
     "name": "stderr",
     "output_type": "stream",
     "text": [
      "/var/folders/cp/9jtgx6ps6ldg63161fmh4z840000gn/T/ipykernel_10885/2507246635.py:1: SettingWithCopyWarning: \n",
      "A value is trying to be set on a copy of a slice from a DataFrame\n",
      "\n",
      "See the caveats in the documentation: https://pandas.pydata.org/pandas-docs/stable/user_guide/indexing.html#returning-a-view-versus-a-copy\n",
      "  t_game.drop_duplicates(inplace=True)\n"
     ]
    }
   ],
   "source": [
    "t_game.drop_duplicates(inplace=True)"
   ]
  },
  {
   "cell_type": "code",
   "execution_count": 57,
   "id": "db5d44e4",
   "metadata": {},
   "outputs": [],
   "source": [
    "test3 = t_game.sort_values(['game_id','game_featuremod_name'],ascending=True).groupby('game_featuremod_name').count().reset_index().sort_values(['game_id'],ascending=False)"
   ]
  },
  {
   "cell_type": "code",
   "execution_count": 58,
   "id": "90ee88e8",
   "metadata": {},
   "outputs": [
    {
     "data": {
      "text/html": [
       "<div>\n",
       "<style scoped>\n",
       "    .dataframe tbody tr th:only-of-type {\n",
       "        vertical-align: middle;\n",
       "    }\n",
       "\n",
       "    .dataframe tbody tr th {\n",
       "        vertical-align: top;\n",
       "    }\n",
       "\n",
       "    .dataframe thead th {\n",
       "        text-align: right;\n",
       "    }\n",
       "</style>\n",
       "<table border=\"1\" class=\"dataframe\">\n",
       "  <thead>\n",
       "    <tr style=\"text-align: right;\">\n",
       "      <th></th>\n",
       "      <th>game_featuremod_name</th>\n",
       "      <th>game_id</th>\n",
       "    </tr>\n",
       "  </thead>\n",
       "  <tbody>\n",
       "    <tr>\n",
       "      <th>4</th>\n",
       "      <td>FAF</td>\n",
       "      <td>7597873</td>\n",
       "    </tr>\n",
       "    <tr>\n",
       "      <th>1</th>\n",
       "      <td>Coop</td>\n",
       "      <td>1296793</td>\n",
       "    </tr>\n",
       "    <tr>\n",
       "      <th>9</th>\n",
       "      <td>Ladder1v1</td>\n",
       "      <td>1144443</td>\n",
       "    </tr>\n",
       "    <tr>\n",
       "      <th>11</th>\n",
       "      <td>Nomads</td>\n",
       "      <td>282513</td>\n",
       "    </tr>\n",
       "    <tr>\n",
       "      <th>14</th>\n",
       "      <td>Xtreme Wars</td>\n",
       "      <td>205318</td>\n",
       "    </tr>\n",
       "    <tr>\n",
       "      <th>5</th>\n",
       "      <td>FAF Beta Balance</td>\n",
       "      <td>105633</td>\n",
       "    </tr>\n",
       "    <tr>\n",
       "      <th>12</th>\n",
       "      <td>Phantom-X</td>\n",
       "      <td>66335</td>\n",
       "    </tr>\n",
       "    <tr>\n",
       "      <th>6</th>\n",
       "      <td>FAF Develop</td>\n",
       "      <td>42808</td>\n",
       "    </tr>\n",
       "    <tr>\n",
       "      <th>3</th>\n",
       "      <td>Equilibrium</td>\n",
       "      <td>26924</td>\n",
       "    </tr>\n",
       "    <tr>\n",
       "      <th>8</th>\n",
       "      <td>LABwars</td>\n",
       "      <td>12826</td>\n",
       "    </tr>\n",
       "    <tr>\n",
       "      <th>10</th>\n",
       "      <td>Murder Party</td>\n",
       "      <td>11824</td>\n",
       "    </tr>\n",
       "    <tr>\n",
       "      <th>0</th>\n",
       "      <td>Claustrophobia</td>\n",
       "      <td>8427</td>\n",
       "    </tr>\n",
       "    <tr>\n",
       "      <th>7</th>\n",
       "      <td>King of the Hill</td>\n",
       "      <td>7025</td>\n",
       "    </tr>\n",
       "    <tr>\n",
       "      <th>13</th>\n",
       "      <td>Vanilla</td>\n",
       "      <td>1714</td>\n",
       "    </tr>\n",
       "    <tr>\n",
       "      <th>2</th>\n",
       "      <td>Diamond</td>\n",
       "      <td>1255</td>\n",
       "    </tr>\n",
       "  </tbody>\n",
       "</table>\n",
       "</div>"
      ],
      "text/plain": [
       "   game_featuremod_name  game_id\n",
       "4                   FAF  7597873\n",
       "1                  Coop  1296793\n",
       "9             Ladder1v1  1144443\n",
       "11               Nomads   282513\n",
       "14          Xtreme Wars   205318\n",
       "5      FAF Beta Balance   105633\n",
       "12            Phantom-X    66335\n",
       "6           FAF Develop    42808\n",
       "3           Equilibrium    26924\n",
       "8               LABwars    12826\n",
       "10         Murder Party    11824\n",
       "0        Claustrophobia     8427\n",
       "7      King of the Hill     7025\n",
       "13              Vanilla     1714\n",
       "2               Diamond     1255"
      ]
     },
     "execution_count": 58,
     "metadata": {},
     "output_type": "execute_result"
    }
   ],
   "source": [
    "test3"
   ]
  },
  {
   "cell_type": "markdown",
   "id": "3b598b2e",
   "metadata": {},
   "source": [
    "### Testing total games played by top rated players"
   ]
  },
  {
   "cell_type": "code",
   "execution_count": 59,
   "id": "12e6a54b",
   "metadata": {},
   "outputs": [],
   "source": [
    "t_top_players = df_pstats[['game_id','player_id','after_rating']]"
   ]
  },
  {
   "cell_type": "code",
   "execution_count": 60,
   "id": "f4f25645",
   "metadata": {},
   "outputs": [
    {
     "name": "stderr",
     "output_type": "stream",
     "text": [
      "/var/folders/cp/9jtgx6ps6ldg63161fmh4z840000gn/T/ipykernel_10885/1446941319.py:1: SettingWithCopyWarning: \n",
      "A value is trying to be set on a copy of a slice from a DataFrame\n",
      "\n",
      "See the caveats in the documentation: https://pandas.pydata.org/pandas-docs/stable/user_guide/indexing.html#returning-a-view-versus-a-copy\n",
      "  t_top_players.drop_duplicates(inplace=True)\n"
     ]
    }
   ],
   "source": [
    "t_top_players.drop_duplicates(inplace=True)"
   ]
  },
  {
   "cell_type": "code",
   "execution_count": 61,
   "id": "f7ae67cd",
   "metadata": {},
   "outputs": [
    {
     "data": {
      "text/html": [
       "<div>\n",
       "<style scoped>\n",
       "    .dataframe tbody tr th:only-of-type {\n",
       "        vertical-align: middle;\n",
       "    }\n",
       "\n",
       "    .dataframe tbody tr th {\n",
       "        vertical-align: top;\n",
       "    }\n",
       "\n",
       "    .dataframe thead th {\n",
       "        text-align: right;\n",
       "    }\n",
       "</style>\n",
       "<table border=\"1\" class=\"dataframe\">\n",
       "  <thead>\n",
       "    <tr style=\"text-align: right;\">\n",
       "      <th></th>\n",
       "      <th>game_id</th>\n",
       "      <th>player_id</th>\n",
       "      <th>after_rating</th>\n",
       "    </tr>\n",
       "  </thead>\n",
       "  <tbody>\n",
       "    <tr>\n",
       "      <th>0</th>\n",
       "      <td>17405720</td>\n",
       "      <td>431007</td>\n",
       "      <td>99999999.0</td>\n",
       "    </tr>\n",
       "    <tr>\n",
       "      <th>1</th>\n",
       "      <td>17405711</td>\n",
       "      <td>96808</td>\n",
       "      <td>99999999.0</td>\n",
       "    </tr>\n",
       "    <tr>\n",
       "      <th>2</th>\n",
       "      <td>17405650</td>\n",
       "      <td>303409</td>\n",
       "      <td>159.7</td>\n",
       "    </tr>\n",
       "    <tr>\n",
       "      <th>3</th>\n",
       "      <td>17405650</td>\n",
       "      <td>436692</td>\n",
       "      <td>692.4</td>\n",
       "    </tr>\n",
       "    <tr>\n",
       "      <th>4</th>\n",
       "      <td>17405650</td>\n",
       "      <td>17943</td>\n",
       "      <td>1078.0</td>\n",
       "    </tr>\n",
       "  </tbody>\n",
       "</table>\n",
       "</div>"
      ],
      "text/plain": [
       "    game_id  player_id  after_rating\n",
       "0  17405720     431007    99999999.0\n",
       "1  17405711      96808    99999999.0\n",
       "2  17405650     303409         159.7\n",
       "3  17405650     436692         692.4\n",
       "4  17405650      17943        1078.0"
      ]
     },
     "execution_count": 61,
     "metadata": {},
     "output_type": "execute_result"
    }
   ],
   "source": [
    "t_top_players.head()"
   ]
  },
  {
   "cell_type": "code",
   "execution_count": 100,
   "id": "17b40b10",
   "metadata": {},
   "outputs": [],
   "source": [
    "test4 = t_top_players.sort_values(['after_rating'],ascending=False).groupby(['after_rating']).agg({'game_id':['count']}).reset_index().sort_values(('game_id','count'),ascending=False)"
   ]
  },
  {
   "cell_type": "code",
   "execution_count": 102,
   "id": "9f401f15",
   "metadata": {},
   "outputs": [
    {
     "data": {
      "text/html": [
       "<div>\n",
       "<style scoped>\n",
       "    .dataframe tbody tr th:only-of-type {\n",
       "        vertical-align: middle;\n",
       "    }\n",
       "\n",
       "    .dataframe tbody tr th {\n",
       "        vertical-align: top;\n",
       "    }\n",
       "\n",
       "    .dataframe thead tr th {\n",
       "        text-align: left;\n",
       "    }\n",
       "</style>\n",
       "<table border=\"1\" class=\"dataframe\">\n",
       "  <thead>\n",
       "    <tr>\n",
       "      <th></th>\n",
       "      <th>after_rating</th>\n",
       "      <th>game_id</th>\n",
       "    </tr>\n",
       "    <tr>\n",
       "      <th></th>\n",
       "      <th></th>\n",
       "      <th>count</th>\n",
       "    </tr>\n",
       "  </thead>\n",
       "  <tbody>\n",
       "    <tr>\n",
       "      <th>11889</th>\n",
       "      <td>477.9</td>\n",
       "      <td>6402</td>\n",
       "    </tr>\n",
       "    <tr>\n",
       "      <th>6579</th>\n",
       "      <td>-53.1</td>\n",
       "      <td>5939</td>\n",
       "    </tr>\n",
       "    <tr>\n",
       "      <th>11839</th>\n",
       "      <td>472.9</td>\n",
       "      <td>2892</td>\n",
       "    </tr>\n",
       "    <tr>\n",
       "      <th>14151</th>\n",
       "      <td>704.1</td>\n",
       "      <td>2434</td>\n",
       "    </tr>\n",
       "    <tr>\n",
       "      <th>6564</th>\n",
       "      <td>-54.6</td>\n",
       "      <td>2410</td>\n",
       "    </tr>\n",
       "    <tr>\n",
       "      <th>15502</th>\n",
       "      <td>839.2</td>\n",
       "      <td>1815</td>\n",
       "    </tr>\n",
       "    <tr>\n",
       "      <th>16419</th>\n",
       "      <td>930.9</td>\n",
       "      <td>1671</td>\n",
       "    </tr>\n",
       "    <tr>\n",
       "      <th>14106</th>\n",
       "      <td>699.6</td>\n",
       "      <td>1652</td>\n",
       "    </tr>\n",
       "    <tr>\n",
       "      <th>10547</th>\n",
       "      <td>343.7</td>\n",
       "      <td>1613</td>\n",
       "    </tr>\n",
       "    <tr>\n",
       "      <th>15469</th>\n",
       "      <td>835.9</td>\n",
       "      <td>1566</td>\n",
       "    </tr>\n",
       "    <tr>\n",
       "      <th>16464</th>\n",
       "      <td>935.4</td>\n",
       "      <td>1508</td>\n",
       "    </tr>\n",
       "    <tr>\n",
       "      <th>16653</th>\n",
       "      <td>954.3</td>\n",
       "      <td>1503</td>\n",
       "    </tr>\n",
       "    <tr>\n",
       "      <th>16621</th>\n",
       "      <td>951.1</td>\n",
       "      <td>1497</td>\n",
       "    </tr>\n",
       "    <tr>\n",
       "      <th>16841</th>\n",
       "      <td>973.1</td>\n",
       "      <td>1495</td>\n",
       "    </tr>\n",
       "    <tr>\n",
       "      <th>16544</th>\n",
       "      <td>943.4</td>\n",
       "      <td>1493</td>\n",
       "    </tr>\n",
       "    <tr>\n",
       "      <th>6663</th>\n",
       "      <td>-44.7</td>\n",
       "      <td>1492</td>\n",
       "    </tr>\n",
       "    <tr>\n",
       "      <th>16656</th>\n",
       "      <td>954.6</td>\n",
       "      <td>1492</td>\n",
       "    </tr>\n",
       "    <tr>\n",
       "      <th>16225</th>\n",
       "      <td>911.5</td>\n",
       "      <td>1491</td>\n",
       "    </tr>\n",
       "    <tr>\n",
       "      <th>17092</th>\n",
       "      <td>998.2</td>\n",
       "      <td>1489</td>\n",
       "    </tr>\n",
       "    <tr>\n",
       "      <th>16592</th>\n",
       "      <td>948.2</td>\n",
       "      <td>1484</td>\n",
       "    </tr>\n",
       "    <tr>\n",
       "      <th>16640</th>\n",
       "      <td>953.0</td>\n",
       "      <td>1483</td>\n",
       "    </tr>\n",
       "    <tr>\n",
       "      <th>16654</th>\n",
       "      <td>954.4</td>\n",
       "      <td>1479</td>\n",
       "    </tr>\n",
       "    <tr>\n",
       "      <th>16710</th>\n",
       "      <td>960.0</td>\n",
       "      <td>1476</td>\n",
       "    </tr>\n",
       "    <tr>\n",
       "      <th>16624</th>\n",
       "      <td>951.4</td>\n",
       "      <td>1474</td>\n",
       "    </tr>\n",
       "    <tr>\n",
       "      <th>16635</th>\n",
       "      <td>952.5</td>\n",
       "      <td>1472</td>\n",
       "    </tr>\n",
       "    <tr>\n",
       "      <th>16671</th>\n",
       "      <td>956.1</td>\n",
       "      <td>1472</td>\n",
       "    </tr>\n",
       "    <tr>\n",
       "      <th>16330</th>\n",
       "      <td>922.0</td>\n",
       "      <td>1469</td>\n",
       "    </tr>\n",
       "    <tr>\n",
       "      <th>16754</th>\n",
       "      <td>964.4</td>\n",
       "      <td>1468</td>\n",
       "    </tr>\n",
       "    <tr>\n",
       "      <th>16585</th>\n",
       "      <td>947.5</td>\n",
       "      <td>1468</td>\n",
       "    </tr>\n",
       "    <tr>\n",
       "      <th>16530</th>\n",
       "      <td>942.0</td>\n",
       "      <td>1466</td>\n",
       "    </tr>\n",
       "    <tr>\n",
       "      <th>16644</th>\n",
       "      <td>953.4</td>\n",
       "      <td>1466</td>\n",
       "    </tr>\n",
       "    <tr>\n",
       "      <th>16675</th>\n",
       "      <td>956.5</td>\n",
       "      <td>1465</td>\n",
       "    </tr>\n",
       "    <tr>\n",
       "      <th>16551</th>\n",
       "      <td>944.1</td>\n",
       "      <td>1464</td>\n",
       "    </tr>\n",
       "    <tr>\n",
       "      <th>16436</th>\n",
       "      <td>932.6</td>\n",
       "      <td>1461</td>\n",
       "    </tr>\n",
       "    <tr>\n",
       "      <th>16673</th>\n",
       "      <td>956.3</td>\n",
       "      <td>1460</td>\n",
       "    </tr>\n",
       "    <tr>\n",
       "      <th>16748</th>\n",
       "      <td>963.8</td>\n",
       "      <td>1459</td>\n",
       "    </tr>\n",
       "    <tr>\n",
       "      <th>16613</th>\n",
       "      <td>950.3</td>\n",
       "      <td>1458</td>\n",
       "    </tr>\n",
       "    <tr>\n",
       "      <th>14813</th>\n",
       "      <td>770.3</td>\n",
       "      <td>1458</td>\n",
       "    </tr>\n",
       "    <tr>\n",
       "      <th>16444</th>\n",
       "      <td>933.4</td>\n",
       "      <td>1457</td>\n",
       "    </tr>\n",
       "    <tr>\n",
       "      <th>16645</th>\n",
       "      <td>953.5</td>\n",
       "      <td>1457</td>\n",
       "    </tr>\n",
       "    <tr>\n",
       "      <th>16605</th>\n",
       "      <td>949.5</td>\n",
       "      <td>1457</td>\n",
       "    </tr>\n",
       "    <tr>\n",
       "      <th>16694</th>\n",
       "      <td>958.4</td>\n",
       "      <td>1454</td>\n",
       "    </tr>\n",
       "    <tr>\n",
       "      <th>16578</th>\n",
       "      <td>946.8</td>\n",
       "      <td>1451</td>\n",
       "    </tr>\n",
       "    <tr>\n",
       "      <th>16000</th>\n",
       "      <td>889.0</td>\n",
       "      <td>1451</td>\n",
       "    </tr>\n",
       "    <tr>\n",
       "      <th>12329</th>\n",
       "      <td>521.9</td>\n",
       "      <td>1450</td>\n",
       "    </tr>\n",
       "    <tr>\n",
       "      <th>16660</th>\n",
       "      <td>955.0</td>\n",
       "      <td>1448</td>\n",
       "    </tr>\n",
       "    <tr>\n",
       "      <th>16627</th>\n",
       "      <td>951.7</td>\n",
       "      <td>1448</td>\n",
       "    </tr>\n",
       "    <tr>\n",
       "      <th>16538</th>\n",
       "      <td>942.8</td>\n",
       "      <td>1448</td>\n",
       "    </tr>\n",
       "    <tr>\n",
       "      <th>16616</th>\n",
       "      <td>950.6</td>\n",
       "      <td>1448</td>\n",
       "    </tr>\n",
       "    <tr>\n",
       "      <th>16546</th>\n",
       "      <td>943.6</td>\n",
       "      <td>1447</td>\n",
       "    </tr>\n",
       "  </tbody>\n",
       "</table>\n",
       "</div>"
      ],
      "text/plain": [
       "      after_rating game_id\n",
       "                     count\n",
       "11889        477.9    6402\n",
       "6579         -53.1    5939\n",
       "11839        472.9    2892\n",
       "14151        704.1    2434\n",
       "6564         -54.6    2410\n",
       "15502        839.2    1815\n",
       "16419        930.9    1671\n",
       "14106        699.6    1652\n",
       "10547        343.7    1613\n",
       "15469        835.9    1566\n",
       "16464        935.4    1508\n",
       "16653        954.3    1503\n",
       "16621        951.1    1497\n",
       "16841        973.1    1495\n",
       "16544        943.4    1493\n",
       "6663         -44.7    1492\n",
       "16656        954.6    1492\n",
       "16225        911.5    1491\n",
       "17092        998.2    1489\n",
       "16592        948.2    1484\n",
       "16640        953.0    1483\n",
       "16654        954.4    1479\n",
       "16710        960.0    1476\n",
       "16624        951.4    1474\n",
       "16635        952.5    1472\n",
       "16671        956.1    1472\n",
       "16330        922.0    1469\n",
       "16754        964.4    1468\n",
       "16585        947.5    1468\n",
       "16530        942.0    1466\n",
       "16644        953.4    1466\n",
       "16675        956.5    1465\n",
       "16551        944.1    1464\n",
       "16436        932.6    1461\n",
       "16673        956.3    1460\n",
       "16748        963.8    1459\n",
       "16613        950.3    1458\n",
       "14813        770.3    1458\n",
       "16444        933.4    1457\n",
       "16645        953.5    1457\n",
       "16605        949.5    1457\n",
       "16694        958.4    1454\n",
       "16578        946.8    1451\n",
       "16000        889.0    1451\n",
       "12329        521.9    1450\n",
       "16660        955.0    1448\n",
       "16627        951.7    1448\n",
       "16538        942.8    1448\n",
       "16616        950.6    1448\n",
       "16546        943.6    1447"
      ]
     },
     "execution_count": 102,
     "metadata": {},
     "output_type": "execute_result"
    }
   ],
   "source": [
    "test4[test4['after_rating']!= 99999999.0][:50]"
   ]
  },
  {
   "cell_type": "code",
   "execution_count": 96,
   "id": "9e1fef30",
   "metadata": {},
   "outputs": [],
   "source": [
    "# plt.bar(x=test4[('game_id','count')],height=test4.after_rating)"
   ]
  },
  {
   "cell_type": "code",
   "execution_count": 55,
   "id": "c93cbf7f",
   "metadata": {},
   "outputs": [],
   "source": [
    "df_pstats.to_csv(\"player_stats_clean.csv\",index = False)"
   ]
  },
  {
   "cell_type": "markdown",
   "id": "8210e47c",
   "metadata": {},
   "source": [
    "### Data Cleaning Issue Command Stats file"
   ]
  },
  {
   "cell_type": "code",
   "execution_count": 56,
   "id": "7548f1ae",
   "metadata": {},
   "outputs": [],
   "source": [
    "df_issue = pd.read_csv('issue_stats.csv')"
   ]
  },
  {
   "cell_type": "code",
   "execution_count": 57,
   "id": "fe402448",
   "metadata": {},
   "outputs": [
    {
     "data": {
      "text/plain": [
       "(1327457, 15)"
      ]
     },
     "execution_count": 57,
     "metadata": {},
     "output_type": "execute_result"
    }
   ],
   "source": [
    "df_issue.shape"
   ]
  },
  {
   "cell_type": "code",
   "execution_count": 58,
   "id": "14c517c5",
   "metadata": {},
   "outputs": [
    {
     "data": {
      "text/html": [
       "<div>\n",
       "<style scoped>\n",
       "    .dataframe tbody tr th:only-of-type {\n",
       "        vertical-align: middle;\n",
       "    }\n",
       "\n",
       "    .dataframe tbody tr th {\n",
       "        vertical-align: top;\n",
       "    }\n",
       "\n",
       "    .dataframe thead th {\n",
       "        text-align: right;\n",
       "    }\n",
       "</style>\n",
       "<table border=\"1\" class=\"dataframe\">\n",
       "  <thead>\n",
       "    <tr style=\"text-align: right;\">\n",
       "      <th></th>\n",
       "      <th>game_id</th>\n",
       "      <th>player_id</th>\n",
       "      <th>issue_apm</th>\n",
       "      <th>reclaim_ratio</th>\n",
       "      <th>overcharge_ratio</th>\n",
       "      <th>transport_ratio</th>\n",
       "      <th>structure_ratio</th>\n",
       "      <th>air_ratio</th>\n",
       "      <th>land_ratio</th>\n",
       "      <th>naval_ratio</th>\n",
       "      <th>t1_ratio</th>\n",
       "      <th>t2_ratio</th>\n",
       "      <th>t3_ratio</th>\n",
       "      <th>t4_ratio</th>\n",
       "      <th>defense_ratio</th>\n",
       "    </tr>\n",
       "  </thead>\n",
       "  <tbody>\n",
       "    <tr>\n",
       "      <th>0</th>\n",
       "      <td>10000006</td>\n",
       "      <td>304205</td>\n",
       "      <td>33.300943</td>\n",
       "      <td>0.022657</td>\n",
       "      <td>0.0</td>\n",
       "      <td>0.000000</td>\n",
       "      <td>0.141092</td>\n",
       "      <td>0.017508</td>\n",
       "      <td>0.078270</td>\n",
       "      <td>0.0</td>\n",
       "      <td>0.122554</td>\n",
       "      <td>0.065911</td>\n",
       "      <td>0.019567</td>\n",
       "      <td>0.00103</td>\n",
       "      <td>0.008239</td>\n",
       "    </tr>\n",
       "    <tr>\n",
       "      <th>1</th>\n",
       "      <td>10000006</td>\n",
       "      <td>258198</td>\n",
       "      <td>46.119403</td>\n",
       "      <td>0.029873</td>\n",
       "      <td>0.0</td>\n",
       "      <td>0.004481</td>\n",
       "      <td>0.109037</td>\n",
       "      <td>0.011949</td>\n",
       "      <td>0.047050</td>\n",
       "      <td>0.0</td>\n",
       "      <td>0.103062</td>\n",
       "      <td>0.048544</td>\n",
       "      <td>0.006721</td>\n",
       "      <td>0.00000</td>\n",
       "      <td>0.052278</td>\n",
       "    </tr>\n",
       "    <tr>\n",
       "      <th>2</th>\n",
       "      <td>10000034</td>\n",
       "      <td>26737</td>\n",
       "      <td>20.049689</td>\n",
       "      <td>0.100372</td>\n",
       "      <td>0.0</td>\n",
       "      <td>0.000000</td>\n",
       "      <td>0.278810</td>\n",
       "      <td>0.014870</td>\n",
       "      <td>0.167286</td>\n",
       "      <td>0.0</td>\n",
       "      <td>0.364312</td>\n",
       "      <td>0.074349</td>\n",
       "      <td>0.000000</td>\n",
       "      <td>0.00000</td>\n",
       "      <td>0.018587</td>\n",
       "    </tr>\n",
       "    <tr>\n",
       "      <th>3</th>\n",
       "      <td>10000034</td>\n",
       "      <td>41066</td>\n",
       "      <td>19.076623</td>\n",
       "      <td>0.003831</td>\n",
       "      <td>0.0</td>\n",
       "      <td>0.000000</td>\n",
       "      <td>0.203065</td>\n",
       "      <td>0.000000</td>\n",
       "      <td>0.130268</td>\n",
       "      <td>0.0</td>\n",
       "      <td>0.283525</td>\n",
       "      <td>0.019157</td>\n",
       "      <td>0.000000</td>\n",
       "      <td>0.00000</td>\n",
       "      <td>0.015326</td>\n",
       "    </tr>\n",
       "    <tr>\n",
       "      <th>4</th>\n",
       "      <td>10000035</td>\n",
       "      <td>226514</td>\n",
       "      <td>43.486778</td>\n",
       "      <td>0.010135</td>\n",
       "      <td>0.0</td>\n",
       "      <td>0.011824</td>\n",
       "      <td>0.222973</td>\n",
       "      <td>0.025338</td>\n",
       "      <td>0.150338</td>\n",
       "      <td>0.0</td>\n",
       "      <td>0.285473</td>\n",
       "      <td>0.065878</td>\n",
       "      <td>0.000000</td>\n",
       "      <td>0.00000</td>\n",
       "      <td>0.010135</td>\n",
       "    </tr>\n",
       "  </tbody>\n",
       "</table>\n",
       "</div>"
      ],
      "text/plain": [
       "    game_id  player_id  issue_apm  reclaim_ratio  overcharge_ratio  \\\n",
       "0  10000006     304205  33.300943       0.022657               0.0   \n",
       "1  10000006     258198  46.119403       0.029873               0.0   \n",
       "2  10000034      26737  20.049689       0.100372               0.0   \n",
       "3  10000034      41066  19.076623       0.003831               0.0   \n",
       "4  10000035     226514  43.486778       0.010135               0.0   \n",
       "\n",
       "   transport_ratio  structure_ratio  air_ratio  land_ratio  naval_ratio  \\\n",
       "0         0.000000         0.141092   0.017508    0.078270          0.0   \n",
       "1         0.004481         0.109037   0.011949    0.047050          0.0   \n",
       "2         0.000000         0.278810   0.014870    0.167286          0.0   \n",
       "3         0.000000         0.203065   0.000000    0.130268          0.0   \n",
       "4         0.011824         0.222973   0.025338    0.150338          0.0   \n",
       "\n",
       "   t1_ratio  t2_ratio  t3_ratio  t4_ratio  defense_ratio  \n",
       "0  0.122554  0.065911  0.019567   0.00103       0.008239  \n",
       "1  0.103062  0.048544  0.006721   0.00000       0.052278  \n",
       "2  0.364312  0.074349  0.000000   0.00000       0.018587  \n",
       "3  0.283525  0.019157  0.000000   0.00000       0.015326  \n",
       "4  0.285473  0.065878  0.000000   0.00000       0.010135  "
      ]
     },
     "execution_count": 58,
     "metadata": {},
     "output_type": "execute_result"
    }
   ],
   "source": [
    "df_issue.head()"
   ]
  },
  {
   "cell_type": "code",
   "execution_count": 59,
   "id": "e4bd855f",
   "metadata": {},
   "outputs": [],
   "source": [
    "to_drop_stats = ['structure_ratio','air_ratio','land_ratio','naval_ratio','t1_ratio','t2_ratio','t3_ratio','t4_ratio','defense_ratio']\n",
    "df_issue.drop(to_drop_stats,axis = 1, inplace= True)"
   ]
  },
  {
   "cell_type": "code",
   "execution_count": 60,
   "id": "8e1da55a",
   "metadata": {},
   "outputs": [
    {
     "data": {
      "text/plain": [
       "game_id               0\n",
       "player_id             0\n",
       "issue_apm           263\n",
       "reclaim_ratio         0\n",
       "overcharge_ratio      0\n",
       "transport_ratio       0\n",
       "dtype: int64"
      ]
     },
     "execution_count": 60,
     "metadata": {},
     "output_type": "execute_result"
    }
   ],
   "source": [
    "df_issue.isnull().sum()"
   ]
  },
  {
   "cell_type": "code",
   "execution_count": 61,
   "id": "d2befdac",
   "metadata": {},
   "outputs": [],
   "source": [
    "df_issue[\"issue_apm\"].replace(to_replace=np.nan,value=280,inplace=True)"
   ]
  },
  {
   "cell_type": "code",
   "execution_count": 62,
   "id": "dbdcd168",
   "metadata": {},
   "outputs": [],
   "source": [
    "df_issue['issue_apm_cat'] = pd.cut(df_issue['issue_apm'], 11,include_lowest=False,right=False)"
   ]
  },
  {
   "cell_type": "code",
   "execution_count": 64,
   "id": "a4cc15ca",
   "metadata": {},
   "outputs": [],
   "source": [
    "df_issue['issue_apm_cat'] = [str(x) for x in df_issue['issue_apm_cat']]"
   ]
  },
  {
   "cell_type": "code",
   "execution_count": 65,
   "id": "e7f835b4",
   "metadata": {},
   "outputs": [],
   "source": [
    "df_issue['issue_apm_cat'] = [f\"Between {x.split(' ')[0].split('[')[1].split(',')[0]} and {x.split(' ')[1].split(')')[0]}\" for x in df_issue['issue_apm_cat']]"
   ]
  },
  {
   "cell_type": "code",
   "execution_count": 66,
   "id": "c6b7b7d4",
   "metadata": {},
   "outputs": [],
   "source": [
    "df_issue[\"issue_apm_cat\"].replace(to_replace='Between 254.545 and 280.28',value=\"Unknown\",inplace=True)"
   ]
  },
  {
   "cell_type": "code",
   "execution_count": 67,
   "id": "c222ada0",
   "metadata": {},
   "outputs": [],
   "source": [
    "df_issue['reclaim_ratio_cat'] = pd.cut(df_issue['reclaim_ratio'], bins=10,include_lowest=False,right=False)"
   ]
  },
  {
   "cell_type": "code",
   "execution_count": 68,
   "id": "3ba351ee",
   "metadata": {},
   "outputs": [],
   "source": [
    "df_issue['overcharge_ratio_cat'] = pd.cut(df_issue['overcharge_ratio'], bins=np.linspace(0.0,0.2,3),include_lowest=False,right=False)"
   ]
  },
  {
   "cell_type": "code",
   "execution_count": 69,
   "id": "fbe01ded",
   "metadata": {},
   "outputs": [],
   "source": [
    "df_issue['transport_ratio_cat'] = pd.cut(df_issue['transport_ratio'], bins=np.linspace(0.0,0.4,5),include_lowest=False,right=False)"
   ]
  },
  {
   "cell_type": "code",
   "execution_count": 70,
   "id": "0ef22550",
   "metadata": {},
   "outputs": [
    {
     "data": {
      "text/plain": [
       "0.3091603053435114"
      ]
     },
     "execution_count": 70,
     "metadata": {},
     "output_type": "execute_result"
    }
   ],
   "source": [
    "max(df_issue['transport_ratio'])"
   ]
  },
  {
   "cell_type": "code",
   "execution_count": 71,
   "id": "e375bec2",
   "metadata": {},
   "outputs": [],
   "source": [
    "df_issue['reclaim_ratio_cat'] = [str(x) for x in df_issue['reclaim_ratio_cat']]"
   ]
  },
  {
   "cell_type": "code",
   "execution_count": 72,
   "id": "1138509c",
   "metadata": {},
   "outputs": [],
   "source": [
    "df_issue['overcharge_ratio_cat'] = [str(x) for x in df_issue['overcharge_ratio_cat']]"
   ]
  },
  {
   "cell_type": "code",
   "execution_count": 73,
   "id": "e7d745a8",
   "metadata": {},
   "outputs": [],
   "source": [
    "df_issue['transport_ratio_cat'] = [str(x) for x in df_issue['transport_ratio_cat']]"
   ]
  },
  {
   "cell_type": "code",
   "execution_count": 74,
   "id": "22697542",
   "metadata": {},
   "outputs": [],
   "source": [
    "df_issue['reclaim_ratio_cat'] = [f\"Between {x.split(' ')[0].split('[')[1].split(',')[0]} and {x.split(' ')[1].split(')')[0]}\" for x in df_issue['reclaim_ratio_cat']]"
   ]
  },
  {
   "cell_type": "code",
   "execution_count": 75,
   "id": "6db43b5c",
   "metadata": {},
   "outputs": [],
   "source": [
    "df_issue['overcharge_ratio_cat'] = [f\"Between {x.split(' ')[0].split('[')[1].split(',')[0]} and {x.split(' ')[1].split(')')[0]}\" for x in df_issue['overcharge_ratio_cat']]"
   ]
  },
  {
   "cell_type": "code",
   "execution_count": 76,
   "id": "b4e75470",
   "metadata": {},
   "outputs": [],
   "source": [
    "df_issue['transport_ratio_cat'] = [f\"Between {x.split(' ')[0].split('[')[1].split(',')[0]} and {x.split(' ')[1].split(')')[0]}\" for x in df_issue['transport_ratio_cat']]"
   ]
  },
  {
   "cell_type": "code",
   "execution_count": 77,
   "id": "17a312fb",
   "metadata": {},
   "outputs": [
    {
     "data": {
      "text/html": [
       "<div>\n",
       "<style scoped>\n",
       "    .dataframe tbody tr th:only-of-type {\n",
       "        vertical-align: middle;\n",
       "    }\n",
       "\n",
       "    .dataframe tbody tr th {\n",
       "        vertical-align: top;\n",
       "    }\n",
       "\n",
       "    .dataframe thead th {\n",
       "        text-align: right;\n",
       "    }\n",
       "</style>\n",
       "<table border=\"1\" class=\"dataframe\">\n",
       "  <thead>\n",
       "    <tr style=\"text-align: right;\">\n",
       "      <th></th>\n",
       "      <th>game_id</th>\n",
       "      <th>player_id</th>\n",
       "      <th>issue_apm</th>\n",
       "      <th>reclaim_ratio</th>\n",
       "      <th>overcharge_ratio</th>\n",
       "      <th>transport_ratio</th>\n",
       "      <th>issue_apm_cat</th>\n",
       "      <th>reclaim_ratio_cat</th>\n",
       "      <th>overcharge_ratio_cat</th>\n",
       "      <th>transport_ratio_cat</th>\n",
       "    </tr>\n",
       "  </thead>\n",
       "  <tbody>\n",
       "    <tr>\n",
       "      <th>0</th>\n",
       "      <td>10000006</td>\n",
       "      <td>304205</td>\n",
       "      <td>33.300943</td>\n",
       "      <td>0.022657</td>\n",
       "      <td>0.0</td>\n",
       "      <td>0.000000</td>\n",
       "      <td>Between 25.455 and 50.909</td>\n",
       "      <td>Between 0.0 and 0.1</td>\n",
       "      <td>Between 0.0 and 0.1</td>\n",
       "      <td>Between 0.0 and 0.1</td>\n",
       "    </tr>\n",
       "    <tr>\n",
       "      <th>1</th>\n",
       "      <td>10000006</td>\n",
       "      <td>258198</td>\n",
       "      <td>46.119403</td>\n",
       "      <td>0.029873</td>\n",
       "      <td>0.0</td>\n",
       "      <td>0.004481</td>\n",
       "      <td>Between 25.455 and 50.909</td>\n",
       "      <td>Between 0.0 and 0.1</td>\n",
       "      <td>Between 0.0 and 0.1</td>\n",
       "      <td>Between 0.0 and 0.1</td>\n",
       "    </tr>\n",
       "    <tr>\n",
       "      <th>2</th>\n",
       "      <td>10000034</td>\n",
       "      <td>26737</td>\n",
       "      <td>20.049689</td>\n",
       "      <td>0.100372</td>\n",
       "      <td>0.0</td>\n",
       "      <td>0.000000</td>\n",
       "      <td>Between 6.57e-06 and 25.455</td>\n",
       "      <td>Between 0.1 and 0.2</td>\n",
       "      <td>Between 0.0 and 0.1</td>\n",
       "      <td>Between 0.0 and 0.1</td>\n",
       "    </tr>\n",
       "    <tr>\n",
       "      <th>3</th>\n",
       "      <td>10000034</td>\n",
       "      <td>41066</td>\n",
       "      <td>19.076623</td>\n",
       "      <td>0.003831</td>\n",
       "      <td>0.0</td>\n",
       "      <td>0.000000</td>\n",
       "      <td>Between 6.57e-06 and 25.455</td>\n",
       "      <td>Between 0.0 and 0.1</td>\n",
       "      <td>Between 0.0 and 0.1</td>\n",
       "      <td>Between 0.0 and 0.1</td>\n",
       "    </tr>\n",
       "    <tr>\n",
       "      <th>4</th>\n",
       "      <td>10000035</td>\n",
       "      <td>226514</td>\n",
       "      <td>43.486778</td>\n",
       "      <td>0.010135</td>\n",
       "      <td>0.0</td>\n",
       "      <td>0.011824</td>\n",
       "      <td>Between 25.455 and 50.909</td>\n",
       "      <td>Between 0.0 and 0.1</td>\n",
       "      <td>Between 0.0 and 0.1</td>\n",
       "      <td>Between 0.0 and 0.1</td>\n",
       "    </tr>\n",
       "  </tbody>\n",
       "</table>\n",
       "</div>"
      ],
      "text/plain": [
       "    game_id  player_id  issue_apm  reclaim_ratio  overcharge_ratio  \\\n",
       "0  10000006     304205  33.300943       0.022657               0.0   \n",
       "1  10000006     258198  46.119403       0.029873               0.0   \n",
       "2  10000034      26737  20.049689       0.100372               0.0   \n",
       "3  10000034      41066  19.076623       0.003831               0.0   \n",
       "4  10000035     226514  43.486778       0.010135               0.0   \n",
       "\n",
       "   transport_ratio                issue_apm_cat    reclaim_ratio_cat  \\\n",
       "0         0.000000    Between 25.455 and 50.909  Between 0.0 and 0.1   \n",
       "1         0.004481    Between 25.455 and 50.909  Between 0.0 and 0.1   \n",
       "2         0.000000  Between 6.57e-06 and 25.455  Between 0.1 and 0.2   \n",
       "3         0.000000  Between 6.57e-06 and 25.455  Between 0.0 and 0.1   \n",
       "4         0.011824    Between 25.455 and 50.909  Between 0.0 and 0.1   \n",
       "\n",
       "  overcharge_ratio_cat  transport_ratio_cat  \n",
       "0  Between 0.0 and 0.1  Between 0.0 and 0.1  \n",
       "1  Between 0.0 and 0.1  Between 0.0 and 0.1  \n",
       "2  Between 0.0 and 0.1  Between 0.0 and 0.1  \n",
       "3  Between 0.0 and 0.1  Between 0.0 and 0.1  \n",
       "4  Between 0.0 and 0.1  Between 0.0 and 0.1  "
      ]
     },
     "execution_count": 77,
     "metadata": {},
     "output_type": "execute_result"
    }
   ],
   "source": [
    "df_issue.head()"
   ]
  },
  {
   "cell_type": "code",
   "execution_count": 78,
   "id": "f9822ad2",
   "metadata": {},
   "outputs": [],
   "source": [
    "to_drop_stats = ['issue_apm','reclaim_ratio','overcharge_ratio','transport_ratio']\n",
    "df_issue.drop(to_drop_stats,axis = 1, inplace= True)"
   ]
  },
  {
   "cell_type": "code",
   "execution_count": 95,
   "id": "9d0f6268",
   "metadata": {},
   "outputs": [
    {
     "data": {
      "text/plain": [
       "array(['Between 0.0 and 0.1', 'Between 0.1 and 0.2',\n",
       "       'Between 0.2 and 0.3', 'Between 0.3 and 0.4'], dtype=object)"
      ]
     },
     "execution_count": 95,
     "metadata": {},
     "output_type": "execute_result"
    }
   ],
   "source": [
    "df_issue['transport_ratio_cat'].unique()"
   ]
  },
  {
   "cell_type": "code",
   "execution_count": 79,
   "id": "82e5b4be",
   "metadata": {},
   "outputs": [],
   "source": [
    "df_issue.to_csv(\"issues_stats_clean.csv\",index = False)"
   ]
  },
  {
   "cell_type": "markdown",
   "id": "d3d173b1",
   "metadata": {},
   "source": [
    "### Data Cleaning Command stats by month file"
   ]
  },
  {
   "cell_type": "code",
   "execution_count": 80,
   "id": "463c3b9f",
   "metadata": {},
   "outputs": [
    {
     "name": "stderr",
     "output_type": "stream",
     "text": [
      "/var/folders/cp/9jtgx6ps6ldg63161fmh4z840000gn/T/ipykernel_9885/1507841470.py:1: DtypeWarning: Columns (6) have mixed types. Specify dtype option on import or set low_memory=False.\n",
      "  df_jan = pd.read_csv('issue_cmds.jan22.csv')\n"
     ]
    }
   ],
   "source": [
    "df_jan = pd.read_csv('issue_cmds.jan22.csv')"
   ]
  },
  {
   "cell_type": "code",
   "execution_count": 81,
   "id": "adcd6b17",
   "metadata": {},
   "outputs": [
    {
     "name": "stderr",
     "output_type": "stream",
     "text": [
      "/var/folders/cp/9jtgx6ps6ldg63161fmh4z840000gn/T/ipykernel_9885/1678507369.py:1: DtypeWarning: Columns (6) have mixed types. Specify dtype option on import or set low_memory=False.\n",
      "  df_feb = pd.read_csv('issue_cmds.feb22.csv')\n"
     ]
    }
   ],
   "source": [
    "df_feb = pd.read_csv('issue_cmds.feb22.csv')"
   ]
  },
  {
   "cell_type": "code",
   "execution_count": 82,
   "id": "e5570ac9",
   "metadata": {},
   "outputs": [
    {
     "name": "stderr",
     "output_type": "stream",
     "text": [
      "/var/folders/cp/9jtgx6ps6ldg63161fmh4z840000gn/T/ipykernel_9885/3559866882.py:1: DtypeWarning: Columns (6) have mixed types. Specify dtype option on import or set low_memory=False.\n",
      "  df_mar = pd.read_csv('issue_cmds.mar22.csv')\n"
     ]
    }
   ],
   "source": [
    "df_mar = pd.read_csv('issue_cmds.mar22.csv')"
   ]
  },
  {
   "cell_type": "code",
   "execution_count": 83,
   "id": "531a9562",
   "metadata": {},
   "outputs": [],
   "source": [
    "df_union_com = pd.concat([df_jan,df_feb,df_mar],ignore_index=True).drop_duplicates()"
   ]
  },
  {
   "cell_type": "code",
   "execution_count": 84,
   "id": "1cbd8502",
   "metadata": {},
   "outputs": [
    {
     "data": {
      "text/html": [
       "<div>\n",
       "<style scoped>\n",
       "    .dataframe tbody tr th:only-of-type {\n",
       "        vertical-align: middle;\n",
       "    }\n",
       "\n",
       "    .dataframe tbody tr th {\n",
       "        vertical-align: top;\n",
       "    }\n",
       "\n",
       "    .dataframe thead th {\n",
       "        text-align: right;\n",
       "    }\n",
       "</style>\n",
       "<table border=\"1\" class=\"dataframe\">\n",
       "  <thead>\n",
       "    <tr style=\"text-align: right;\">\n",
       "      <th></th>\n",
       "      <th>id</th>\n",
       "      <th>start_time</th>\n",
       "      <th>offset_ms</th>\n",
       "      <th>player</th>\n",
       "      <th>type</th>\n",
       "      <th>units_number</th>\n",
       "      <th>blueprint</th>\n",
       "      <th>position_x</th>\n",
       "      <th>position_y</th>\n",
       "      <th>command_name</th>\n",
       "      <th>faf_player_id</th>\n",
       "      <th>login</th>\n",
       "      <th>rating</th>\n",
       "      <th>faction</th>\n",
       "      <th>map_name</th>\n",
       "      <th>map_thumbnail</th>\n",
       "      <th>map_width</th>\n",
       "      <th>map_height</th>\n",
       "    </tr>\n",
       "  </thead>\n",
       "  <tbody>\n",
       "    <tr>\n",
       "      <th>0</th>\n",
       "      <td>16128316</td>\n",
       "      <td>2022-01-14 20:00:38 UTC</td>\n",
       "      <td>1047300</td>\n",
       "      <td>1</td>\n",
       "      <td>issue</td>\n",
       "      <td>2</td>\n",
       "      <td>NaN</td>\n",
       "      <td>NaN</td>\n",
       "      <td>NaN</td>\n",
       "      <td>Stop</td>\n",
       "      <td>92766</td>\n",
       "      <td>Glassy</td>\n",
       "      <td>1577</td>\n",
       "      <td>Seraphim</td>\n",
       "      <td>Regor VI Highlands</td>\n",
       "      <td>https://content.faforever.com/maps/previews/la...</td>\n",
       "      <td>512</td>\n",
       "      <td>512</td>\n",
       "    </tr>\n",
       "    <tr>\n",
       "      <th>1</th>\n",
       "      <td>16178891</td>\n",
       "      <td>2022-01-21 17:44:31 UTC</td>\n",
       "      <td>927000</td>\n",
       "      <td>1</td>\n",
       "      <td>issue</td>\n",
       "      <td>1</td>\n",
       "      <td>NaN</td>\n",
       "      <td>NaN</td>\n",
       "      <td>NaN</td>\n",
       "      <td>Stop</td>\n",
       "      <td>64928</td>\n",
       "      <td>Morax</td>\n",
       "      <td>1750</td>\n",
       "      <td>UEF</td>\n",
       "      <td>White Fire - FAF version</td>\n",
       "      <td>https://content.faforever.com/maps/previews/la...</td>\n",
       "      <td>512</td>\n",
       "      <td>512</td>\n",
       "    </tr>\n",
       "    <tr>\n",
       "      <th>2</th>\n",
       "      <td>16256113</td>\n",
       "      <td>2022-01-31 11:47:12 UTC</td>\n",
       "      <td>1467100</td>\n",
       "      <td>1</td>\n",
       "      <td>issue</td>\n",
       "      <td>98</td>\n",
       "      <td>NaN</td>\n",
       "      <td>671.567932</td>\n",
       "      <td>271.30954</td>\n",
       "      <td>FormMove</td>\n",
       "      <td>108922</td>\n",
       "      <td>trandan</td>\n",
       "      <td>1772</td>\n",
       "      <td>Seraphim</td>\n",
       "      <td>The Bermuda Locket - FAF version</td>\n",
       "      <td>https://content.faforever.com/maps/previews/la...</td>\n",
       "      <td>1024</td>\n",
       "      <td>1024</td>\n",
       "    </tr>\n",
       "    <tr>\n",
       "      <th>3</th>\n",
       "      <td>16128700</td>\n",
       "      <td>2022-01-14 20:39:32 UTC</td>\n",
       "      <td>406700</td>\n",
       "      <td>1</td>\n",
       "      <td>issue</td>\n",
       "      <td>1</td>\n",
       "      <td>NaN</td>\n",
       "      <td>NaN</td>\n",
       "      <td>NaN</td>\n",
       "      <td>Stop</td>\n",
       "      <td>64928</td>\n",
       "      <td>Morax</td>\n",
       "      <td>1759</td>\n",
       "      <td>Aeon</td>\n",
       "      <td>White Fire - FAF version</td>\n",
       "      <td>https://content.faforever.com/maps/previews/la...</td>\n",
       "      <td>512</td>\n",
       "      <td>512</td>\n",
       "    </tr>\n",
       "    <tr>\n",
       "      <th>4</th>\n",
       "      <td>16031045</td>\n",
       "      <td>2022-01-01 17:56:41 UTC</td>\n",
       "      <td>659300</td>\n",
       "      <td>1</td>\n",
       "      <td>issue</td>\n",
       "      <td>1</td>\n",
       "      <td>NaN</td>\n",
       "      <td>NaN</td>\n",
       "      <td>NaN</td>\n",
       "      <td>Stop</td>\n",
       "      <td>366264</td>\n",
       "      <td>Keksyamba</td>\n",
       "      <td>636</td>\n",
       "      <td>UEF</td>\n",
       "      <td>Crossfire Canal - FAF version</td>\n",
       "      <td>https://content.faforever.com/maps/previews/la...</td>\n",
       "      <td>1024</td>\n",
       "      <td>1024</td>\n",
       "    </tr>\n",
       "  </tbody>\n",
       "</table>\n",
       "</div>"
      ],
      "text/plain": [
       "         id               start_time  offset_ms  player   type  units_number  \\\n",
       "0  16128316  2022-01-14 20:00:38 UTC    1047300       1  issue             2   \n",
       "1  16178891  2022-01-21 17:44:31 UTC     927000       1  issue             1   \n",
       "2  16256113  2022-01-31 11:47:12 UTC    1467100       1  issue            98   \n",
       "3  16128700  2022-01-14 20:39:32 UTC     406700       1  issue             1   \n",
       "4  16031045  2022-01-01 17:56:41 UTC     659300       1  issue             1   \n",
       "\n",
       "  blueprint  position_x  position_y command_name  faf_player_id      login  \\\n",
       "0       NaN         NaN         NaN         Stop          92766     Glassy   \n",
       "1       NaN         NaN         NaN         Stop          64928      Morax   \n",
       "2       NaN  671.567932   271.30954     FormMove         108922    trandan   \n",
       "3       NaN         NaN         NaN         Stop          64928      Morax   \n",
       "4       NaN         NaN         NaN         Stop         366264  Keksyamba   \n",
       "\n",
       "   rating   faction                          map_name  \\\n",
       "0    1577  Seraphim                Regor VI Highlands   \n",
       "1    1750       UEF          White Fire - FAF version   \n",
       "2    1772  Seraphim  The Bermuda Locket - FAF version   \n",
       "3    1759      Aeon          White Fire - FAF version   \n",
       "4     636       UEF     Crossfire Canal - FAF version   \n",
       "\n",
       "                                       map_thumbnail  map_width  map_height  \n",
       "0  https://content.faforever.com/maps/previews/la...        512         512  \n",
       "1  https://content.faforever.com/maps/previews/la...        512         512  \n",
       "2  https://content.faforever.com/maps/previews/la...       1024        1024  \n",
       "3  https://content.faforever.com/maps/previews/la...        512         512  \n",
       "4  https://content.faforever.com/maps/previews/la...       1024        1024  "
      ]
     },
     "execution_count": 84,
     "metadata": {},
     "output_type": "execute_result"
    }
   ],
   "source": [
    "df_union_com.head()"
   ]
  },
  {
   "cell_type": "code",
   "execution_count": 85,
   "id": "9c25bbc8",
   "metadata": {},
   "outputs": [
    {
     "data": {
      "text/plain": [
       "(28175049, 18)"
      ]
     },
     "execution_count": 85,
     "metadata": {},
     "output_type": "execute_result"
    }
   ],
   "source": [
    "df_union_com.shape"
   ]
  },
  {
   "cell_type": "code",
   "execution_count": 86,
   "id": "89b75774",
   "metadata": {},
   "outputs": [],
   "source": [
    "to_drop = ['offset_ms','player','position_x','position_y','map_thumbnail','map_width','map_height','login','rating','faction']\n",
    "df_union_com.drop(to_drop,axis = 1, inplace= True)"
   ]
  },
  {
   "cell_type": "code",
   "execution_count": 87,
   "id": "4c8a628f",
   "metadata": {},
   "outputs": [
    {
     "data": {
      "text/plain": [
       "id                      0\n",
       "start_time              0\n",
       "type                    0\n",
       "units_number            0\n",
       "blueprint        20345040\n",
       "command_name            0\n",
       "faf_player_id           0\n",
       "map_name                0\n",
       "dtype: int64"
      ]
     },
     "execution_count": 87,
     "metadata": {},
     "output_type": "execute_result"
    }
   ],
   "source": [
    "df_union_com.isnull().sum()"
   ]
  },
  {
   "cell_type": "code",
   "execution_count": 88,
   "id": "6083c5fa",
   "metadata": {},
   "outputs": [],
   "source": [
    "df_union_com[\"blueprint\"].replace(to_replace=np.nan,value=\"unknown000\",inplace=True)"
   ]
  },
  {
   "cell_type": "code",
   "execution_count": 89,
   "id": "40f99f09",
   "metadata": {},
   "outputs": [],
   "source": [
    "df_union_com.rename(columns={'id':'game_id','type':'issue_type','blueprint':'blueprint_id','faf_player_id':'player_id'},inplace = True)"
   ]
  },
  {
   "cell_type": "code",
   "execution_count": 90,
   "id": "b095e2d5",
   "metadata": {},
   "outputs": [],
   "source": [
    "df_union_com.to_csv(\"janfebmar_combine_clean.csv\",index = False)"
   ]
  },
  {
   "cell_type": "code",
   "execution_count": 96,
   "id": "5a765d6d",
   "metadata": {},
   "outputs": [
    {
     "data": {
      "text/html": [
       "<div>\n",
       "<style scoped>\n",
       "    .dataframe tbody tr th:only-of-type {\n",
       "        vertical-align: middle;\n",
       "    }\n",
       "\n",
       "    .dataframe tbody tr th {\n",
       "        vertical-align: top;\n",
       "    }\n",
       "\n",
       "    .dataframe thead th {\n",
       "        text-align: right;\n",
       "    }\n",
       "</style>\n",
       "<table border=\"1\" class=\"dataframe\">\n",
       "  <thead>\n",
       "    <tr style=\"text-align: right;\">\n",
       "      <th></th>\n",
       "      <th>game_id</th>\n",
       "      <th>start_time</th>\n",
       "      <th>issue_type</th>\n",
       "      <th>units_number</th>\n",
       "      <th>blueprint_id</th>\n",
       "      <th>command_name</th>\n",
       "      <th>player_id</th>\n",
       "      <th>map_name</th>\n",
       "    </tr>\n",
       "  </thead>\n",
       "  <tbody>\n",
       "    <tr>\n",
       "      <th>0</th>\n",
       "      <td>16128316</td>\n",
       "      <td>2022-01-14 20:00:38 UTC</td>\n",
       "      <td>issue</td>\n",
       "      <td>2</td>\n",
       "      <td>unknown000</td>\n",
       "      <td>Stop</td>\n",
       "      <td>92766</td>\n",
       "      <td>Regor VI Highlands</td>\n",
       "    </tr>\n",
       "    <tr>\n",
       "      <th>1</th>\n",
       "      <td>16178891</td>\n",
       "      <td>2022-01-21 17:44:31 UTC</td>\n",
       "      <td>issue</td>\n",
       "      <td>1</td>\n",
       "      <td>unknown000</td>\n",
       "      <td>Stop</td>\n",
       "      <td>64928</td>\n",
       "      <td>White Fire - FAF version</td>\n",
       "    </tr>\n",
       "    <tr>\n",
       "      <th>2</th>\n",
       "      <td>16256113</td>\n",
       "      <td>2022-01-31 11:47:12 UTC</td>\n",
       "      <td>issue</td>\n",
       "      <td>98</td>\n",
       "      <td>unknown000</td>\n",
       "      <td>FormMove</td>\n",
       "      <td>108922</td>\n",
       "      <td>The Bermuda Locket - FAF version</td>\n",
       "    </tr>\n",
       "    <tr>\n",
       "      <th>3</th>\n",
       "      <td>16128700</td>\n",
       "      <td>2022-01-14 20:39:32 UTC</td>\n",
       "      <td>issue</td>\n",
       "      <td>1</td>\n",
       "      <td>unknown000</td>\n",
       "      <td>Stop</td>\n",
       "      <td>64928</td>\n",
       "      <td>White Fire - FAF version</td>\n",
       "    </tr>\n",
       "    <tr>\n",
       "      <th>4</th>\n",
       "      <td>16031045</td>\n",
       "      <td>2022-01-01 17:56:41 UTC</td>\n",
       "      <td>issue</td>\n",
       "      <td>1</td>\n",
       "      <td>unknown000</td>\n",
       "      <td>Stop</td>\n",
       "      <td>366264</td>\n",
       "      <td>Crossfire Canal - FAF version</td>\n",
       "    </tr>\n",
       "  </tbody>\n",
       "</table>\n",
       "</div>"
      ],
      "text/plain": [
       "    game_id               start_time issue_type  units_number blueprint_id  \\\n",
       "0  16128316  2022-01-14 20:00:38 UTC      issue             2   unknown000   \n",
       "1  16178891  2022-01-21 17:44:31 UTC      issue             1   unknown000   \n",
       "2  16256113  2022-01-31 11:47:12 UTC      issue            98   unknown000   \n",
       "3  16128700  2022-01-14 20:39:32 UTC      issue             1   unknown000   \n",
       "4  16031045  2022-01-01 17:56:41 UTC      issue             1   unknown000   \n",
       "\n",
       "  command_name  player_id                          map_name  \n",
       "0         Stop      92766                Regor VI Highlands  \n",
       "1         Stop      64928          White Fire - FAF version  \n",
       "2     FormMove     108922  The Bermuda Locket - FAF version  \n",
       "3         Stop      64928          White Fire - FAF version  \n",
       "4         Stop     366264     Crossfire Canal - FAF version  "
      ]
     },
     "execution_count": 96,
     "metadata": {},
     "output_type": "execute_result"
    }
   ],
   "source": [
    "df_union_com.head()"
   ]
  },
  {
   "cell_type": "code",
   "execution_count": null,
   "id": "f8d4c7f4",
   "metadata": {},
   "outputs": [],
   "source": []
  }
 ],
 "metadata": {
  "kernelspec": {
   "display_name": "Python 3 (ipykernel)",
   "language": "python",
   "name": "python3"
  },
  "language_info": {
   "codemirror_mode": {
    "name": "ipython",
    "version": 3
   },
   "file_extension": ".py",
   "mimetype": "text/x-python",
   "name": "python",
   "nbconvert_exporter": "python",
   "pygments_lexer": "ipython3",
   "version": "3.9.11"
  }
 },
 "nbformat": 4,
 "nbformat_minor": 5
}
