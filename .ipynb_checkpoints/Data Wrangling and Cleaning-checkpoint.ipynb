{
 "cells": [
  {
   "cell_type": "markdown",
   "id": "fbd48489",
   "metadata": {},
   "source": [
    "### Data Cleaning Player Stats file "
   ]
  },
  {
   "cell_type": "code",
   "execution_count": 1,
   "id": "267d5f49",
   "metadata": {},
   "outputs": [],
   "source": [
    "import pandas as pd\n",
    "import numpy as np\n",
    "from pandas_profiling import ProfileReport\n",
    "import os\n",
    "from pandas import DataFrame\n",
    "import datetime"
   ]
  },
  {
   "cell_type": "code",
   "execution_count": 2,
   "id": "577d29b4",
   "metadata": {},
   "outputs": [
    {
     "name": "stderr",
     "output_type": "stream",
     "text": [
      "/var/folders/cp/9jtgx6ps6ldg63161fmh4z840000gn/T/ipykernel_6738/1619808696.py:2: DtypeWarning: Columns (19) have mixed types. Specify dtype option on import or set low_memory=False.\n",
      "  df_pstats = pd.read_csv('playerstats.csv')\n"
     ]
    }
   ],
   "source": [
    "# Reading player statistics file\n",
    "df_pstats = pd.read_csv('playerstats.csv')"
   ]
  },
  {
   "cell_type": "code",
   "execution_count": 3,
   "id": "0a3f6960",
   "metadata": {},
   "outputs": [
    {
     "data": {
      "text/plain": [
       "(32200183, 20)"
      ]
     },
     "execution_count": 3,
     "metadata": {},
     "output_type": "execute_result"
    }
   ],
   "source": [
    "df_pstats.shape"
   ]
  },
  {
   "cell_type": "code",
   "execution_count": 4,
   "id": "646fce1d",
   "metadata": {},
   "outputs": [
    {
     "data": {
      "text/html": [
       "<div>\n",
       "<style scoped>\n",
       "    .dataframe tbody tr th:only-of-type {\n",
       "        vertical-align: middle;\n",
       "    }\n",
       "\n",
       "    .dataframe tbody tr th {\n",
       "        vertical-align: top;\n",
       "    }\n",
       "\n",
       "    .dataframe thead th {\n",
       "        text-align: right;\n",
       "    }\n",
       "</style>\n",
       "<table border=\"1\" class=\"dataframe\">\n",
       "  <thead>\n",
       "    <tr style=\"text-align: right;\">\n",
       "      <th></th>\n",
       "      <th>game_id</th>\n",
       "      <th>game_start_time</th>\n",
       "      <th>game_duration_minutes</th>\n",
       "      <th>game_validity</th>\n",
       "      <th>game_featuremod_name</th>\n",
       "      <th>game_total_players</th>\n",
       "      <th>map_id</th>\n",
       "      <th>map_name</th>\n",
       "      <th>map_width</th>\n",
       "      <th>map_height</th>\n",
       "      <th>player_id</th>\n",
       "      <th>player_login</th>\n",
       "      <th>player_faction</th>\n",
       "      <th>player_team</th>\n",
       "      <th>player_starting_spot</th>\n",
       "      <th>player_result</th>\n",
       "      <th>player_is_computer</th>\n",
       "      <th>before_rating</th>\n",
       "      <th>after_rating</th>\n",
       "      <th>leaderboard_ids</th>\n",
       "    </tr>\n",
       "  </thead>\n",
       "  <tbody>\n",
       "    <tr>\n",
       "      <th>0</th>\n",
       "      <td>17405720</td>\n",
       "      <td>2022-06-30 23:59:58 UTC</td>\n",
       "      <td>30.7</td>\n",
       "      <td>UNKNOWN_RESULT</td>\n",
       "      <td>FAF</td>\n",
       "      <td>1</td>\n",
       "      <td>21833.0</td>\n",
       "      <td>Hold the line</td>\n",
       "      <td>2048.0</td>\n",
       "      <td>2048.0</td>\n",
       "      <td>431007</td>\n",
       "      <td>Walgreens</td>\n",
       "      <td>UEF</td>\n",
       "      <td>3</td>\n",
       "      <td>1</td>\n",
       "      <td>UNKNOWN</td>\n",
       "      <td>False</td>\n",
       "      <td>0.0</td>\n",
       "      <td>NaN</td>\n",
       "      <td>NaN</td>\n",
       "    </tr>\n",
       "    <tr>\n",
       "      <th>1</th>\n",
       "      <td>17405711</td>\n",
       "      <td>2022-06-30 23:59:44 UTC</td>\n",
       "      <td>30.2</td>\n",
       "      <td>COOP_NOT_RANKED</td>\n",
       "      <td>Coop</td>\n",
       "      <td>1</td>\n",
       "      <td>NaN</td>\n",
       "      <td>NaN</td>\n",
       "      <td>NaN</td>\n",
       "      <td>NaN</td>\n",
       "      <td>96808</td>\n",
       "      <td>Starcruiser</td>\n",
       "      <td>Cybran</td>\n",
       "      <td>1</td>\n",
       "      <td>1</td>\n",
       "      <td>UNKNOWN</td>\n",
       "      <td>False</td>\n",
       "      <td>0.0</td>\n",
       "      <td>NaN</td>\n",
       "      <td>NaN</td>\n",
       "    </tr>\n",
       "    <tr>\n",
       "      <th>2</th>\n",
       "      <td>17405650</td>\n",
       "      <td>2022-06-30 23:58:34 UTC</td>\n",
       "      <td>48.0</td>\n",
       "      <td>VALID</td>\n",
       "      <td>FAF</td>\n",
       "      <td>12</td>\n",
       "      <td>14570.0</td>\n",
       "      <td>Desert Gap</td>\n",
       "      <td>1024.0</td>\n",
       "      <td>1024.0</td>\n",
       "      <td>303409</td>\n",
       "      <td>ourubapu</td>\n",
       "      <td>UEF</td>\n",
       "      <td>3</td>\n",
       "      <td>3</td>\n",
       "      <td>DEFEAT</td>\n",
       "      <td>False</td>\n",
       "      <td>163.3</td>\n",
       "      <td>159.7</td>\n",
       "      <td>1</td>\n",
       "    </tr>\n",
       "    <tr>\n",
       "      <th>3</th>\n",
       "      <td>17405650</td>\n",
       "      <td>2022-06-30 23:58:34 UTC</td>\n",
       "      <td>48.0</td>\n",
       "      <td>VALID</td>\n",
       "      <td>FAF</td>\n",
       "      <td>12</td>\n",
       "      <td>14570.0</td>\n",
       "      <td>Desert Gap</td>\n",
       "      <td>1024.0</td>\n",
       "      <td>1024.0</td>\n",
       "      <td>436692</td>\n",
       "      <td>Enzord_Rocka</td>\n",
       "      <td>UEF</td>\n",
       "      <td>2</td>\n",
       "      <td>11</td>\n",
       "      <td>DEFEAT</td>\n",
       "      <td>False</td>\n",
       "      <td>686.7</td>\n",
       "      <td>692.4</td>\n",
       "      <td>1</td>\n",
       "    </tr>\n",
       "    <tr>\n",
       "      <th>4</th>\n",
       "      <td>17405650</td>\n",
       "      <td>2022-06-30 23:58:34 UTC</td>\n",
       "      <td>48.0</td>\n",
       "      <td>VALID</td>\n",
       "      <td>FAF</td>\n",
       "      <td>12</td>\n",
       "      <td>14570.0</td>\n",
       "      <td>Desert Gap</td>\n",
       "      <td>1024.0</td>\n",
       "      <td>1024.0</td>\n",
       "      <td>17943</td>\n",
       "      <td>Defiant</td>\n",
       "      <td>UEF</td>\n",
       "      <td>3</td>\n",
       "      <td>5</td>\n",
       "      <td>DEFEAT</td>\n",
       "      <td>False</td>\n",
       "      <td>1082.8</td>\n",
       "      <td>1078.0</td>\n",
       "      <td>1</td>\n",
       "    </tr>\n",
       "  </tbody>\n",
       "</table>\n",
       "</div>"
      ],
      "text/plain": [
       "    game_id          game_start_time  game_duration_minutes    game_validity  \\\n",
       "0  17405720  2022-06-30 23:59:58 UTC                   30.7   UNKNOWN_RESULT   \n",
       "1  17405711  2022-06-30 23:59:44 UTC                   30.2  COOP_NOT_RANKED   \n",
       "2  17405650  2022-06-30 23:58:34 UTC                   48.0            VALID   \n",
       "3  17405650  2022-06-30 23:58:34 UTC                   48.0            VALID   \n",
       "4  17405650  2022-06-30 23:58:34 UTC                   48.0            VALID   \n",
       "\n",
       "  game_featuremod_name  game_total_players   map_id       map_name  map_width  \\\n",
       "0                  FAF                   1  21833.0  Hold the line     2048.0   \n",
       "1                 Coop                   1      NaN            NaN        NaN   \n",
       "2                  FAF                  12  14570.0     Desert Gap     1024.0   \n",
       "3                  FAF                  12  14570.0     Desert Gap     1024.0   \n",
       "4                  FAF                  12  14570.0     Desert Gap     1024.0   \n",
       "\n",
       "   map_height  player_id  player_login player_faction  player_team  \\\n",
       "0      2048.0     431007     Walgreens            UEF            3   \n",
       "1         NaN      96808   Starcruiser         Cybran            1   \n",
       "2      1024.0     303409      ourubapu            UEF            3   \n",
       "3      1024.0     436692  Enzord_Rocka            UEF            2   \n",
       "4      1024.0      17943       Defiant            UEF            3   \n",
       "\n",
       "   player_starting_spot player_result  player_is_computer  before_rating  \\\n",
       "0                     1       UNKNOWN               False            0.0   \n",
       "1                     1       UNKNOWN               False            0.0   \n",
       "2                     3        DEFEAT               False          163.3   \n",
       "3                    11        DEFEAT               False          686.7   \n",
       "4                     5        DEFEAT               False         1082.8   \n",
       "\n",
       "   after_rating leaderboard_ids  \n",
       "0           NaN             NaN  \n",
       "1           NaN             NaN  \n",
       "2         159.7               1  \n",
       "3         692.4               1  \n",
       "4        1078.0               1  "
      ]
     },
     "execution_count": 4,
     "metadata": {},
     "output_type": "execute_result"
    }
   ],
   "source": [
    "df_pstats.head()"
   ]
  },
  {
   "cell_type": "code",
   "execution_count": 5,
   "id": "a270361f",
   "metadata": {},
   "outputs": [],
   "source": [
    "# Dropping unnecessary columns\n",
    "to_drop_play = ['leaderboard_ids','game_duration_minutes','player_starting_spot']\n",
    "df_pstats.drop(to_drop_play,axis = 1, inplace= True)"
   ]
  },
  {
   "cell_type": "code",
   "execution_count": 6,
   "id": "43075c05",
   "metadata": {},
   "outputs": [],
   "source": [
    "# Renaming columns\n",
    "df_pstats.rename(columns={'player_faction':'faction'},inplace=True)"
   ]
  },
  {
   "cell_type": "code",
   "execution_count": 7,
   "id": "d12ca878",
   "metadata": {},
   "outputs": [
    {
     "data": {
      "text/plain": [
       "game_id                        0\n",
       "game_start_time                0\n",
       "game_validity                  0\n",
       "game_featuremod_name           0\n",
       "game_total_players             0\n",
       "map_id                   2564564\n",
       "map_name                 2564564\n",
       "map_width                2564564\n",
       "map_height               2564564\n",
       "player_id                      0\n",
       "player_login                 557\n",
       "faction                        0\n",
       "player_team                    0\n",
       "player_result                  0\n",
       "player_is_computer             0\n",
       "before_rating                  0\n",
       "after_rating            18327390\n",
       "dtype: int64"
      ]
     },
     "execution_count": 7,
     "metadata": {},
     "output_type": "execute_result"
    }
   ],
   "source": [
    "# Finding nulls\n",
    "df_pstats.isnull().sum()"
   ]
  },
  {
   "cell_type": "markdown",
   "id": "a1524f85",
   "metadata": {},
   "source": [
    "map_id : -1\n",
    "map_name : Unknown\n",
    "map_width : -1\n",
    "map_height : -1\n",
    "player_login : Unknown\n",
    "after_rating : 99999999"
   ]
  },
  {
   "cell_type": "code",
   "execution_count": 8,
   "id": "6e1cac14",
   "metadata": {},
   "outputs": [
    {
     "data": {
      "text/plain": [
       "False"
      ]
     },
     "execution_count": 8,
     "metadata": {},
     "output_type": "execute_result"
    }
   ],
   "source": [
    "#setting unknown mapids to 99999999\n",
    "-1 in df_pstats['map_id']"
   ]
  },
  {
   "cell_type": "code",
   "execution_count": 9,
   "id": "95ed234a",
   "metadata": {},
   "outputs": [],
   "source": [
    "df_pstats[\"map_id\"].replace(to_replace=np.nan,value=-1,inplace=True)"
   ]
  },
  {
   "cell_type": "code",
   "execution_count": 10,
   "id": "4afb4fc8",
   "metadata": {},
   "outputs": [
    {
     "data": {
      "text/plain": [
       "False"
      ]
     },
     "execution_count": 10,
     "metadata": {},
     "output_type": "execute_result"
    }
   ],
   "source": [
    "\"Unknown\" in df_pstats['map_name']"
   ]
  },
  {
   "cell_type": "code",
   "execution_count": 11,
   "id": "912509a3",
   "metadata": {},
   "outputs": [],
   "source": [
    "df_pstats[\"map_name\"].replace(to_replace=np.nan,value=\"Unknown\",inplace=True)"
   ]
  },
  {
   "cell_type": "code",
   "execution_count": 12,
   "id": "64af4c08",
   "metadata": {},
   "outputs": [
    {
     "data": {
      "text/plain": [
       "False"
      ]
     },
     "execution_count": 12,
     "metadata": {},
     "output_type": "execute_result"
    }
   ],
   "source": [
    "-1 in df_pstats['map_width']"
   ]
  },
  {
   "cell_type": "code",
   "execution_count": 13,
   "id": "95f3ca5d",
   "metadata": {},
   "outputs": [],
   "source": [
    "df_pstats[\"map_width\"].replace(to_replace=np.nan,value=-1,inplace=True)"
   ]
  },
  {
   "cell_type": "code",
   "execution_count": 14,
   "id": "a886d9fc",
   "metadata": {},
   "outputs": [
    {
     "data": {
      "text/plain": [
       "False"
      ]
     },
     "execution_count": 14,
     "metadata": {},
     "output_type": "execute_result"
    }
   ],
   "source": [
    "-1 in df_pstats['map_height']"
   ]
  },
  {
   "cell_type": "code",
   "execution_count": 15,
   "id": "916f1dd5",
   "metadata": {},
   "outputs": [],
   "source": [
    "df_pstats[\"map_height\"].replace(to_replace=np.nan,value=-1,inplace=True)"
   ]
  },
  {
   "cell_type": "code",
   "execution_count": 16,
   "id": "cbabad97",
   "metadata": {},
   "outputs": [
    {
     "data": {
      "text/plain": [
       "False"
      ]
     },
     "execution_count": 16,
     "metadata": {},
     "output_type": "execute_result"
    }
   ],
   "source": [
    "\"Unknown\" in df_pstats['player_login']"
   ]
  },
  {
   "cell_type": "code",
   "execution_count": 17,
   "id": "3b163a92",
   "metadata": {},
   "outputs": [],
   "source": [
    "df_pstats[\"player_login\"].replace(to_replace=np.nan,value=\"Unknown\",inplace=True)"
   ]
  },
  {
   "cell_type": "code",
   "execution_count": 18,
   "id": "e60b1eca",
   "metadata": {},
   "outputs": [
    {
     "data": {
      "text/plain": [
       "False"
      ]
     },
     "execution_count": 18,
     "metadata": {},
     "output_type": "execute_result"
    }
   ],
   "source": [
    "99999999 in df_pstats['after_rating']"
   ]
  },
  {
   "cell_type": "code",
   "execution_count": 19,
   "id": "a512e2d4",
   "metadata": {},
   "outputs": [],
   "source": [
    "df_pstats[\"after_rating\"].replace(to_replace=np.nan,value=99999999,inplace=True)"
   ]
  },
  {
   "cell_type": "code",
   "execution_count": 20,
   "id": "cc89be68",
   "metadata": {},
   "outputs": [],
   "source": [
    "df_pstats['timezone'] = df_pstats['game_start_time'].apply(lambda x : x.split(\" \")[-1])"
   ]
  },
  {
   "cell_type": "code",
   "execution_count": 21,
   "id": "73221869",
   "metadata": {},
   "outputs": [],
   "source": [
    "df_pstats['start_date'] = df_pstats['game_start_time'].apply(lambda x : x.split(\" \")[0])"
   ]
  },
  {
   "cell_type": "code",
   "execution_count": 22,
   "id": "9fe5a07f",
   "metadata": {},
   "outputs": [],
   "source": [
    "df_pstats['start_time'] = df_pstats['game_start_time'].apply(lambda x : x.split(\" \")[1])"
   ]
  },
  {
   "cell_type": "code",
   "execution_count": 23,
   "id": "9f42a7e0",
   "metadata": {},
   "outputs": [],
   "source": [
    "df_pstats['start_year'] = df_pstats['game_start_time'].apply(lambda x : x.split(\"-\")[0])"
   ]
  },
  {
   "cell_type": "code",
   "execution_count": 24,
   "id": "1507e1e4",
   "metadata": {},
   "outputs": [],
   "source": [
    "df_pstats['start_date'] = pd.to_datetime(df_pstats['start_date'],errors='coerce')"
   ]
  },
  {
   "cell_type": "code",
   "execution_count": 25,
   "id": "6cb284fc",
   "metadata": {},
   "outputs": [],
   "source": [
    "df_pstats[\"start_month\"] = df_pstats[\"start_date\"].dt.month_name()"
   ]
  },
  {
   "cell_type": "code",
   "execution_count": 26,
   "id": "73b2894e",
   "metadata": {},
   "outputs": [
    {
     "data": {
      "text/html": [
       "<div>\n",
       "<style scoped>\n",
       "    .dataframe tbody tr th:only-of-type {\n",
       "        vertical-align: middle;\n",
       "    }\n",
       "\n",
       "    .dataframe tbody tr th {\n",
       "        vertical-align: top;\n",
       "    }\n",
       "\n",
       "    .dataframe thead th {\n",
       "        text-align: right;\n",
       "    }\n",
       "</style>\n",
       "<table border=\"1\" class=\"dataframe\">\n",
       "  <thead>\n",
       "    <tr style=\"text-align: right;\">\n",
       "      <th></th>\n",
       "      <th>game_id</th>\n",
       "      <th>game_start_time</th>\n",
       "      <th>game_validity</th>\n",
       "      <th>game_featuremod_name</th>\n",
       "      <th>game_total_players</th>\n",
       "      <th>map_id</th>\n",
       "      <th>map_name</th>\n",
       "      <th>map_width</th>\n",
       "      <th>map_height</th>\n",
       "      <th>player_id</th>\n",
       "      <th>...</th>\n",
       "      <th>player_team</th>\n",
       "      <th>player_result</th>\n",
       "      <th>player_is_computer</th>\n",
       "      <th>before_rating</th>\n",
       "      <th>after_rating</th>\n",
       "      <th>timezone</th>\n",
       "      <th>start_date</th>\n",
       "      <th>start_time</th>\n",
       "      <th>start_year</th>\n",
       "      <th>start_month</th>\n",
       "    </tr>\n",
       "  </thead>\n",
       "  <tbody>\n",
       "    <tr>\n",
       "      <th>0</th>\n",
       "      <td>17405720</td>\n",
       "      <td>2022-06-30 23:59:58 UTC</td>\n",
       "      <td>UNKNOWN_RESULT</td>\n",
       "      <td>FAF</td>\n",
       "      <td>1</td>\n",
       "      <td>21833.0</td>\n",
       "      <td>Hold the line</td>\n",
       "      <td>2048.0</td>\n",
       "      <td>2048.0</td>\n",
       "      <td>431007</td>\n",
       "      <td>...</td>\n",
       "      <td>3</td>\n",
       "      <td>UNKNOWN</td>\n",
       "      <td>False</td>\n",
       "      <td>0.0</td>\n",
       "      <td>99999999.0</td>\n",
       "      <td>UTC</td>\n",
       "      <td>2022-06-30</td>\n",
       "      <td>23:59:58</td>\n",
       "      <td>2022</td>\n",
       "      <td>June</td>\n",
       "    </tr>\n",
       "    <tr>\n",
       "      <th>1</th>\n",
       "      <td>17405711</td>\n",
       "      <td>2022-06-30 23:59:44 UTC</td>\n",
       "      <td>COOP_NOT_RANKED</td>\n",
       "      <td>Coop</td>\n",
       "      <td>1</td>\n",
       "      <td>-1.0</td>\n",
       "      <td>Unknown</td>\n",
       "      <td>-1.0</td>\n",
       "      <td>-1.0</td>\n",
       "      <td>96808</td>\n",
       "      <td>...</td>\n",
       "      <td>1</td>\n",
       "      <td>UNKNOWN</td>\n",
       "      <td>False</td>\n",
       "      <td>0.0</td>\n",
       "      <td>99999999.0</td>\n",
       "      <td>UTC</td>\n",
       "      <td>2022-06-30</td>\n",
       "      <td>23:59:44</td>\n",
       "      <td>2022</td>\n",
       "      <td>June</td>\n",
       "    </tr>\n",
       "    <tr>\n",
       "      <th>2</th>\n",
       "      <td>17405650</td>\n",
       "      <td>2022-06-30 23:58:34 UTC</td>\n",
       "      <td>VALID</td>\n",
       "      <td>FAF</td>\n",
       "      <td>12</td>\n",
       "      <td>14570.0</td>\n",
       "      <td>Desert Gap</td>\n",
       "      <td>1024.0</td>\n",
       "      <td>1024.0</td>\n",
       "      <td>303409</td>\n",
       "      <td>...</td>\n",
       "      <td>3</td>\n",
       "      <td>DEFEAT</td>\n",
       "      <td>False</td>\n",
       "      <td>163.3</td>\n",
       "      <td>159.7</td>\n",
       "      <td>UTC</td>\n",
       "      <td>2022-06-30</td>\n",
       "      <td>23:58:34</td>\n",
       "      <td>2022</td>\n",
       "      <td>June</td>\n",
       "    </tr>\n",
       "    <tr>\n",
       "      <th>3</th>\n",
       "      <td>17405650</td>\n",
       "      <td>2022-06-30 23:58:34 UTC</td>\n",
       "      <td>VALID</td>\n",
       "      <td>FAF</td>\n",
       "      <td>12</td>\n",
       "      <td>14570.0</td>\n",
       "      <td>Desert Gap</td>\n",
       "      <td>1024.0</td>\n",
       "      <td>1024.0</td>\n",
       "      <td>436692</td>\n",
       "      <td>...</td>\n",
       "      <td>2</td>\n",
       "      <td>DEFEAT</td>\n",
       "      <td>False</td>\n",
       "      <td>686.7</td>\n",
       "      <td>692.4</td>\n",
       "      <td>UTC</td>\n",
       "      <td>2022-06-30</td>\n",
       "      <td>23:58:34</td>\n",
       "      <td>2022</td>\n",
       "      <td>June</td>\n",
       "    </tr>\n",
       "    <tr>\n",
       "      <th>4</th>\n",
       "      <td>17405650</td>\n",
       "      <td>2022-06-30 23:58:34 UTC</td>\n",
       "      <td>VALID</td>\n",
       "      <td>FAF</td>\n",
       "      <td>12</td>\n",
       "      <td>14570.0</td>\n",
       "      <td>Desert Gap</td>\n",
       "      <td>1024.0</td>\n",
       "      <td>1024.0</td>\n",
       "      <td>17943</td>\n",
       "      <td>...</td>\n",
       "      <td>3</td>\n",
       "      <td>DEFEAT</td>\n",
       "      <td>False</td>\n",
       "      <td>1082.8</td>\n",
       "      <td>1078.0</td>\n",
       "      <td>UTC</td>\n",
       "      <td>2022-06-30</td>\n",
       "      <td>23:58:34</td>\n",
       "      <td>2022</td>\n",
       "      <td>June</td>\n",
       "    </tr>\n",
       "  </tbody>\n",
       "</table>\n",
       "<p>5 rows × 22 columns</p>\n",
       "</div>"
      ],
      "text/plain": [
       "    game_id          game_start_time    game_validity game_featuremod_name  \\\n",
       "0  17405720  2022-06-30 23:59:58 UTC   UNKNOWN_RESULT                  FAF   \n",
       "1  17405711  2022-06-30 23:59:44 UTC  COOP_NOT_RANKED                 Coop   \n",
       "2  17405650  2022-06-30 23:58:34 UTC            VALID                  FAF   \n",
       "3  17405650  2022-06-30 23:58:34 UTC            VALID                  FAF   \n",
       "4  17405650  2022-06-30 23:58:34 UTC            VALID                  FAF   \n",
       "\n",
       "   game_total_players   map_id       map_name  map_width  map_height  \\\n",
       "0                   1  21833.0  Hold the line     2048.0      2048.0   \n",
       "1                   1     -1.0        Unknown       -1.0        -1.0   \n",
       "2                  12  14570.0     Desert Gap     1024.0      1024.0   \n",
       "3                  12  14570.0     Desert Gap     1024.0      1024.0   \n",
       "4                  12  14570.0     Desert Gap     1024.0      1024.0   \n",
       "\n",
       "   player_id  ... player_team player_result  player_is_computer before_rating  \\\n",
       "0     431007  ...           3       UNKNOWN               False           0.0   \n",
       "1      96808  ...           1       UNKNOWN               False           0.0   \n",
       "2     303409  ...           3        DEFEAT               False         163.3   \n",
       "3     436692  ...           2        DEFEAT               False         686.7   \n",
       "4      17943  ...           3        DEFEAT               False        1082.8   \n",
       "\n",
       "   after_rating  timezone  start_date start_time start_year start_month  \n",
       "0    99999999.0       UTC  2022-06-30   23:59:58       2022        June  \n",
       "1    99999999.0       UTC  2022-06-30   23:59:44       2022        June  \n",
       "2         159.7       UTC  2022-06-30   23:58:34       2022        June  \n",
       "3         692.4       UTC  2022-06-30   23:58:34       2022        June  \n",
       "4        1078.0       UTC  2022-06-30   23:58:34       2022        June  \n",
       "\n",
       "[5 rows x 22 columns]"
      ]
     },
     "execution_count": 26,
     "metadata": {},
     "output_type": "execute_result"
    }
   ],
   "source": [
    "df_pstats.head()"
   ]
  },
  {
   "cell_type": "code",
   "execution_count": 27,
   "id": "73206097",
   "metadata": {},
   "outputs": [
    {
     "data": {
      "text/plain": [
       "game_id                 0\n",
       "game_start_time         0\n",
       "game_validity           0\n",
       "game_featuremod_name    0\n",
       "game_total_players      0\n",
       "map_id                  0\n",
       "map_name                0\n",
       "map_width               0\n",
       "map_height              0\n",
       "player_id               0\n",
       "player_login            0\n",
       "faction                 0\n",
       "player_team             0\n",
       "player_result           0\n",
       "player_is_computer      0\n",
       "before_rating           0\n",
       "after_rating            0\n",
       "timezone                0\n",
       "start_date              0\n",
       "start_time              0\n",
       "start_year              0\n",
       "start_month             0\n",
       "dtype: int64"
      ]
     },
     "execution_count": 27,
     "metadata": {},
     "output_type": "execute_result"
    }
   ],
   "source": [
    "# Finding nulls\n",
    "df_pstats.isnull().sum()"
   ]
  },
  {
   "cell_type": "code",
   "execution_count": 28,
   "id": "72e320b4",
   "metadata": {},
   "outputs": [],
   "source": [
    "# Dropping unnecessary columns\n",
    "to_drop_play = ['game_start_time']\n",
    "df_pstats.drop(to_drop_play,axis = 1, inplace= True)"
   ]
  },
  {
   "cell_type": "code",
   "execution_count": 62,
   "id": "f5a3a563",
   "metadata": {},
   "outputs": [
    {
     "data": {
      "text/plain": [
       "-1.0"
      ]
     },
     "execution_count": 62,
     "metadata": {},
     "output_type": "execute_result"
    }
   ],
   "source": [
    "#Testing map id min max\n",
    "df_pstats['map_id'].min()"
   ]
  },
  {
   "cell_type": "code",
   "execution_count": 63,
   "id": "996aac10",
   "metadata": {},
   "outputs": [
    {
     "data": {
      "text/plain": [
       "22655.0"
      ]
     },
     "execution_count": 63,
     "metadata": {},
     "output_type": "execute_result"
    }
   ],
   "source": [
    "#Testing map id min max\n",
    "df_pstats['map_id'].max()"
   ]
  },
  {
   "cell_type": "code",
   "execution_count": 55,
   "id": "c93cbf7f",
   "metadata": {},
   "outputs": [],
   "source": [
    "df_pstats.to_csv(\"player_stats_clean.csv\",index = False)"
   ]
  },
  {
   "cell_type": "markdown",
   "id": "8210e47c",
   "metadata": {},
   "source": [
    "### Data Cleaning Issue Command Stats file"
   ]
  },
  {
   "cell_type": "code",
   "execution_count": 56,
   "id": "7548f1ae",
   "metadata": {},
   "outputs": [],
   "source": [
    "df_issue = pd.read_csv('issue_stats.csv')"
   ]
  },
  {
   "cell_type": "code",
   "execution_count": 57,
   "id": "fe402448",
   "metadata": {},
   "outputs": [
    {
     "data": {
      "text/plain": [
       "(1327457, 15)"
      ]
     },
     "execution_count": 57,
     "metadata": {},
     "output_type": "execute_result"
    }
   ],
   "source": [
    "df_issue.shape"
   ]
  },
  {
   "cell_type": "code",
   "execution_count": 58,
   "id": "14c517c5",
   "metadata": {},
   "outputs": [
    {
     "data": {
      "text/html": [
       "<div>\n",
       "<style scoped>\n",
       "    .dataframe tbody tr th:only-of-type {\n",
       "        vertical-align: middle;\n",
       "    }\n",
       "\n",
       "    .dataframe tbody tr th {\n",
       "        vertical-align: top;\n",
       "    }\n",
       "\n",
       "    .dataframe thead th {\n",
       "        text-align: right;\n",
       "    }\n",
       "</style>\n",
       "<table border=\"1\" class=\"dataframe\">\n",
       "  <thead>\n",
       "    <tr style=\"text-align: right;\">\n",
       "      <th></th>\n",
       "      <th>game_id</th>\n",
       "      <th>player_id</th>\n",
       "      <th>issue_apm</th>\n",
       "      <th>reclaim_ratio</th>\n",
       "      <th>overcharge_ratio</th>\n",
       "      <th>transport_ratio</th>\n",
       "      <th>structure_ratio</th>\n",
       "      <th>air_ratio</th>\n",
       "      <th>land_ratio</th>\n",
       "      <th>naval_ratio</th>\n",
       "      <th>t1_ratio</th>\n",
       "      <th>t2_ratio</th>\n",
       "      <th>t3_ratio</th>\n",
       "      <th>t4_ratio</th>\n",
       "      <th>defense_ratio</th>\n",
       "    </tr>\n",
       "  </thead>\n",
       "  <tbody>\n",
       "    <tr>\n",
       "      <th>0</th>\n",
       "      <td>10000006</td>\n",
       "      <td>304205</td>\n",
       "      <td>33.300943</td>\n",
       "      <td>0.022657</td>\n",
       "      <td>0.0</td>\n",
       "      <td>0.000000</td>\n",
       "      <td>0.141092</td>\n",
       "      <td>0.017508</td>\n",
       "      <td>0.078270</td>\n",
       "      <td>0.0</td>\n",
       "      <td>0.122554</td>\n",
       "      <td>0.065911</td>\n",
       "      <td>0.019567</td>\n",
       "      <td>0.00103</td>\n",
       "      <td>0.008239</td>\n",
       "    </tr>\n",
       "    <tr>\n",
       "      <th>1</th>\n",
       "      <td>10000006</td>\n",
       "      <td>258198</td>\n",
       "      <td>46.119403</td>\n",
       "      <td>0.029873</td>\n",
       "      <td>0.0</td>\n",
       "      <td>0.004481</td>\n",
       "      <td>0.109037</td>\n",
       "      <td>0.011949</td>\n",
       "      <td>0.047050</td>\n",
       "      <td>0.0</td>\n",
       "      <td>0.103062</td>\n",
       "      <td>0.048544</td>\n",
       "      <td>0.006721</td>\n",
       "      <td>0.00000</td>\n",
       "      <td>0.052278</td>\n",
       "    </tr>\n",
       "    <tr>\n",
       "      <th>2</th>\n",
       "      <td>10000034</td>\n",
       "      <td>26737</td>\n",
       "      <td>20.049689</td>\n",
       "      <td>0.100372</td>\n",
       "      <td>0.0</td>\n",
       "      <td>0.000000</td>\n",
       "      <td>0.278810</td>\n",
       "      <td>0.014870</td>\n",
       "      <td>0.167286</td>\n",
       "      <td>0.0</td>\n",
       "      <td>0.364312</td>\n",
       "      <td>0.074349</td>\n",
       "      <td>0.000000</td>\n",
       "      <td>0.00000</td>\n",
       "      <td>0.018587</td>\n",
       "    </tr>\n",
       "    <tr>\n",
       "      <th>3</th>\n",
       "      <td>10000034</td>\n",
       "      <td>41066</td>\n",
       "      <td>19.076623</td>\n",
       "      <td>0.003831</td>\n",
       "      <td>0.0</td>\n",
       "      <td>0.000000</td>\n",
       "      <td>0.203065</td>\n",
       "      <td>0.000000</td>\n",
       "      <td>0.130268</td>\n",
       "      <td>0.0</td>\n",
       "      <td>0.283525</td>\n",
       "      <td>0.019157</td>\n",
       "      <td>0.000000</td>\n",
       "      <td>0.00000</td>\n",
       "      <td>0.015326</td>\n",
       "    </tr>\n",
       "    <tr>\n",
       "      <th>4</th>\n",
       "      <td>10000035</td>\n",
       "      <td>226514</td>\n",
       "      <td>43.486778</td>\n",
       "      <td>0.010135</td>\n",
       "      <td>0.0</td>\n",
       "      <td>0.011824</td>\n",
       "      <td>0.222973</td>\n",
       "      <td>0.025338</td>\n",
       "      <td>0.150338</td>\n",
       "      <td>0.0</td>\n",
       "      <td>0.285473</td>\n",
       "      <td>0.065878</td>\n",
       "      <td>0.000000</td>\n",
       "      <td>0.00000</td>\n",
       "      <td>0.010135</td>\n",
       "    </tr>\n",
       "  </tbody>\n",
       "</table>\n",
       "</div>"
      ],
      "text/plain": [
       "    game_id  player_id  issue_apm  reclaim_ratio  overcharge_ratio  \\\n",
       "0  10000006     304205  33.300943       0.022657               0.0   \n",
       "1  10000006     258198  46.119403       0.029873               0.0   \n",
       "2  10000034      26737  20.049689       0.100372               0.0   \n",
       "3  10000034      41066  19.076623       0.003831               0.0   \n",
       "4  10000035     226514  43.486778       0.010135               0.0   \n",
       "\n",
       "   transport_ratio  structure_ratio  air_ratio  land_ratio  naval_ratio  \\\n",
       "0         0.000000         0.141092   0.017508    0.078270          0.0   \n",
       "1         0.004481         0.109037   0.011949    0.047050          0.0   \n",
       "2         0.000000         0.278810   0.014870    0.167286          0.0   \n",
       "3         0.000000         0.203065   0.000000    0.130268          0.0   \n",
       "4         0.011824         0.222973   0.025338    0.150338          0.0   \n",
       "\n",
       "   t1_ratio  t2_ratio  t3_ratio  t4_ratio  defense_ratio  \n",
       "0  0.122554  0.065911  0.019567   0.00103       0.008239  \n",
       "1  0.103062  0.048544  0.006721   0.00000       0.052278  \n",
       "2  0.364312  0.074349  0.000000   0.00000       0.018587  \n",
       "3  0.283525  0.019157  0.000000   0.00000       0.015326  \n",
       "4  0.285473  0.065878  0.000000   0.00000       0.010135  "
      ]
     },
     "execution_count": 58,
     "metadata": {},
     "output_type": "execute_result"
    }
   ],
   "source": [
    "df_issue.head()"
   ]
  },
  {
   "cell_type": "code",
   "execution_count": 59,
   "id": "e4bd855f",
   "metadata": {},
   "outputs": [],
   "source": [
    "to_drop_stats = ['structure_ratio','air_ratio','land_ratio','naval_ratio','t1_ratio','t2_ratio','t3_ratio','t4_ratio','defense_ratio']\n",
    "df_issue.drop(to_drop_stats,axis = 1, inplace= True)"
   ]
  },
  {
   "cell_type": "code",
   "execution_count": 60,
   "id": "8e1da55a",
   "metadata": {},
   "outputs": [
    {
     "data": {
      "text/plain": [
       "game_id               0\n",
       "player_id             0\n",
       "issue_apm           263\n",
       "reclaim_ratio         0\n",
       "overcharge_ratio      0\n",
       "transport_ratio       0\n",
       "dtype: int64"
      ]
     },
     "execution_count": 60,
     "metadata": {},
     "output_type": "execute_result"
    }
   ],
   "source": [
    "df_issue.isnull().sum()"
   ]
  },
  {
   "cell_type": "code",
   "execution_count": 61,
   "id": "d2befdac",
   "metadata": {},
   "outputs": [],
   "source": [
    "df_issue[\"issue_apm\"].replace(to_replace=np.nan,value=280,inplace=True)"
   ]
  },
  {
   "cell_type": "code",
   "execution_count": 62,
   "id": "dbdcd168",
   "metadata": {},
   "outputs": [],
   "source": [
    "df_issue['issue_apm_cat'] = pd.cut(df_issue['issue_apm'], 11,include_lowest=False,right=False)"
   ]
  },
  {
   "cell_type": "code",
   "execution_count": 64,
   "id": "a4cc15ca",
   "metadata": {},
   "outputs": [],
   "source": [
    "df_issue['issue_apm_cat'] = [str(x) for x in df_issue['issue_apm_cat']]"
   ]
  },
  {
   "cell_type": "code",
   "execution_count": 65,
   "id": "e7f835b4",
   "metadata": {},
   "outputs": [],
   "source": [
    "df_issue['issue_apm_cat'] = [f\"Between {x.split(' ')[0].split('[')[1].split(',')[0]} and {x.split(' ')[1].split(')')[0]}\" for x in df_issue['issue_apm_cat']]"
   ]
  },
  {
   "cell_type": "code",
   "execution_count": 66,
   "id": "c6b7b7d4",
   "metadata": {},
   "outputs": [],
   "source": [
    "df_issue[\"issue_apm_cat\"].replace(to_replace='Between 254.545 and 280.28',value=\"Unknown\",inplace=True)"
   ]
  },
  {
   "cell_type": "code",
   "execution_count": 67,
   "id": "c222ada0",
   "metadata": {},
   "outputs": [],
   "source": [
    "df_issue['reclaim_ratio_cat'] = pd.cut(df_issue['reclaim_ratio'], bins=10,include_lowest=False,right=False)"
   ]
  },
  {
   "cell_type": "code",
   "execution_count": 68,
   "id": "3ba351ee",
   "metadata": {},
   "outputs": [],
   "source": [
    "df_issue['overcharge_ratio_cat'] = pd.cut(df_issue['overcharge_ratio'], bins=np.linspace(0.0,0.2,3),include_lowest=False,right=False)"
   ]
  },
  {
   "cell_type": "code",
   "execution_count": 69,
   "id": "fbe01ded",
   "metadata": {},
   "outputs": [],
   "source": [
    "df_issue['transport_ratio_cat'] = pd.cut(df_issue['transport_ratio'], bins=np.linspace(0.0,0.4,5),include_lowest=False,right=False)"
   ]
  },
  {
   "cell_type": "code",
   "execution_count": 70,
   "id": "0ef22550",
   "metadata": {},
   "outputs": [
    {
     "data": {
      "text/plain": [
       "0.3091603053435114"
      ]
     },
     "execution_count": 70,
     "metadata": {},
     "output_type": "execute_result"
    }
   ],
   "source": [
    "max(df_issue['transport_ratio'])"
   ]
  },
  {
   "cell_type": "code",
   "execution_count": 71,
   "id": "e375bec2",
   "metadata": {},
   "outputs": [],
   "source": [
    "df_issue['reclaim_ratio_cat'] = [str(x) for x in df_issue['reclaim_ratio_cat']]"
   ]
  },
  {
   "cell_type": "code",
   "execution_count": 72,
   "id": "1138509c",
   "metadata": {},
   "outputs": [],
   "source": [
    "df_issue['overcharge_ratio_cat'] = [str(x) for x in df_issue['overcharge_ratio_cat']]"
   ]
  },
  {
   "cell_type": "code",
   "execution_count": 73,
   "id": "e7d745a8",
   "metadata": {},
   "outputs": [],
   "source": [
    "df_issue['transport_ratio_cat'] = [str(x) for x in df_issue['transport_ratio_cat']]"
   ]
  },
  {
   "cell_type": "code",
   "execution_count": 74,
   "id": "22697542",
   "metadata": {},
   "outputs": [],
   "source": [
    "df_issue['reclaim_ratio_cat'] = [f\"Between {x.split(' ')[0].split('[')[1].split(',')[0]} and {x.split(' ')[1].split(')')[0]}\" for x in df_issue['reclaim_ratio_cat']]"
   ]
  },
  {
   "cell_type": "code",
   "execution_count": 75,
   "id": "6db43b5c",
   "metadata": {},
   "outputs": [],
   "source": [
    "df_issue['overcharge_ratio_cat'] = [f\"Between {x.split(' ')[0].split('[')[1].split(',')[0]} and {x.split(' ')[1].split(')')[0]}\" for x in df_issue['overcharge_ratio_cat']]"
   ]
  },
  {
   "cell_type": "code",
   "execution_count": 76,
   "id": "b4e75470",
   "metadata": {},
   "outputs": [],
   "source": [
    "df_issue['transport_ratio_cat'] = [f\"Between {x.split(' ')[0].split('[')[1].split(',')[0]} and {x.split(' ')[1].split(')')[0]}\" for x in df_issue['transport_ratio_cat']]"
   ]
  },
  {
   "cell_type": "code",
   "execution_count": 77,
   "id": "17a312fb",
   "metadata": {},
   "outputs": [
    {
     "data": {
      "text/html": [
       "<div>\n",
       "<style scoped>\n",
       "    .dataframe tbody tr th:only-of-type {\n",
       "        vertical-align: middle;\n",
       "    }\n",
       "\n",
       "    .dataframe tbody tr th {\n",
       "        vertical-align: top;\n",
       "    }\n",
       "\n",
       "    .dataframe thead th {\n",
       "        text-align: right;\n",
       "    }\n",
       "</style>\n",
       "<table border=\"1\" class=\"dataframe\">\n",
       "  <thead>\n",
       "    <tr style=\"text-align: right;\">\n",
       "      <th></th>\n",
       "      <th>game_id</th>\n",
       "      <th>player_id</th>\n",
       "      <th>issue_apm</th>\n",
       "      <th>reclaim_ratio</th>\n",
       "      <th>overcharge_ratio</th>\n",
       "      <th>transport_ratio</th>\n",
       "      <th>issue_apm_cat</th>\n",
       "      <th>reclaim_ratio_cat</th>\n",
       "      <th>overcharge_ratio_cat</th>\n",
       "      <th>transport_ratio_cat</th>\n",
       "    </tr>\n",
       "  </thead>\n",
       "  <tbody>\n",
       "    <tr>\n",
       "      <th>0</th>\n",
       "      <td>10000006</td>\n",
       "      <td>304205</td>\n",
       "      <td>33.300943</td>\n",
       "      <td>0.022657</td>\n",
       "      <td>0.0</td>\n",
       "      <td>0.000000</td>\n",
       "      <td>Between 25.455 and 50.909</td>\n",
       "      <td>Between 0.0 and 0.1</td>\n",
       "      <td>Between 0.0 and 0.1</td>\n",
       "      <td>Between 0.0 and 0.1</td>\n",
       "    </tr>\n",
       "    <tr>\n",
       "      <th>1</th>\n",
       "      <td>10000006</td>\n",
       "      <td>258198</td>\n",
       "      <td>46.119403</td>\n",
       "      <td>0.029873</td>\n",
       "      <td>0.0</td>\n",
       "      <td>0.004481</td>\n",
       "      <td>Between 25.455 and 50.909</td>\n",
       "      <td>Between 0.0 and 0.1</td>\n",
       "      <td>Between 0.0 and 0.1</td>\n",
       "      <td>Between 0.0 and 0.1</td>\n",
       "    </tr>\n",
       "    <tr>\n",
       "      <th>2</th>\n",
       "      <td>10000034</td>\n",
       "      <td>26737</td>\n",
       "      <td>20.049689</td>\n",
       "      <td>0.100372</td>\n",
       "      <td>0.0</td>\n",
       "      <td>0.000000</td>\n",
       "      <td>Between 6.57e-06 and 25.455</td>\n",
       "      <td>Between 0.1 and 0.2</td>\n",
       "      <td>Between 0.0 and 0.1</td>\n",
       "      <td>Between 0.0 and 0.1</td>\n",
       "    </tr>\n",
       "    <tr>\n",
       "      <th>3</th>\n",
       "      <td>10000034</td>\n",
       "      <td>41066</td>\n",
       "      <td>19.076623</td>\n",
       "      <td>0.003831</td>\n",
       "      <td>0.0</td>\n",
       "      <td>0.000000</td>\n",
       "      <td>Between 6.57e-06 and 25.455</td>\n",
       "      <td>Between 0.0 and 0.1</td>\n",
       "      <td>Between 0.0 and 0.1</td>\n",
       "      <td>Between 0.0 and 0.1</td>\n",
       "    </tr>\n",
       "    <tr>\n",
       "      <th>4</th>\n",
       "      <td>10000035</td>\n",
       "      <td>226514</td>\n",
       "      <td>43.486778</td>\n",
       "      <td>0.010135</td>\n",
       "      <td>0.0</td>\n",
       "      <td>0.011824</td>\n",
       "      <td>Between 25.455 and 50.909</td>\n",
       "      <td>Between 0.0 and 0.1</td>\n",
       "      <td>Between 0.0 and 0.1</td>\n",
       "      <td>Between 0.0 and 0.1</td>\n",
       "    </tr>\n",
       "  </tbody>\n",
       "</table>\n",
       "</div>"
      ],
      "text/plain": [
       "    game_id  player_id  issue_apm  reclaim_ratio  overcharge_ratio  \\\n",
       "0  10000006     304205  33.300943       0.022657               0.0   \n",
       "1  10000006     258198  46.119403       0.029873               0.0   \n",
       "2  10000034      26737  20.049689       0.100372               0.0   \n",
       "3  10000034      41066  19.076623       0.003831               0.0   \n",
       "4  10000035     226514  43.486778       0.010135               0.0   \n",
       "\n",
       "   transport_ratio                issue_apm_cat    reclaim_ratio_cat  \\\n",
       "0         0.000000    Between 25.455 and 50.909  Between 0.0 and 0.1   \n",
       "1         0.004481    Between 25.455 and 50.909  Between 0.0 and 0.1   \n",
       "2         0.000000  Between 6.57e-06 and 25.455  Between 0.1 and 0.2   \n",
       "3         0.000000  Between 6.57e-06 and 25.455  Between 0.0 and 0.1   \n",
       "4         0.011824    Between 25.455 and 50.909  Between 0.0 and 0.1   \n",
       "\n",
       "  overcharge_ratio_cat  transport_ratio_cat  \n",
       "0  Between 0.0 and 0.1  Between 0.0 and 0.1  \n",
       "1  Between 0.0 and 0.1  Between 0.0 and 0.1  \n",
       "2  Between 0.0 and 0.1  Between 0.0 and 0.1  \n",
       "3  Between 0.0 and 0.1  Between 0.0 and 0.1  \n",
       "4  Between 0.0 and 0.1  Between 0.0 and 0.1  "
      ]
     },
     "execution_count": 77,
     "metadata": {},
     "output_type": "execute_result"
    }
   ],
   "source": [
    "df_issue.head()"
   ]
  },
  {
   "cell_type": "code",
   "execution_count": 78,
   "id": "f9822ad2",
   "metadata": {},
   "outputs": [],
   "source": [
    "to_drop_stats = ['issue_apm','reclaim_ratio','overcharge_ratio','transport_ratio']\n",
    "df_issue.drop(to_drop_stats,axis = 1, inplace= True)"
   ]
  },
  {
   "cell_type": "code",
   "execution_count": 95,
   "id": "9d0f6268",
   "metadata": {},
   "outputs": [
    {
     "data": {
      "text/plain": [
       "array(['Between 0.0 and 0.1', 'Between 0.1 and 0.2',\n",
       "       'Between 0.2 and 0.3', 'Between 0.3 and 0.4'], dtype=object)"
      ]
     },
     "execution_count": 95,
     "metadata": {},
     "output_type": "execute_result"
    }
   ],
   "source": [
    "df_issue['transport_ratio_cat'].unique()"
   ]
  },
  {
   "cell_type": "code",
   "execution_count": 79,
   "id": "82e5b4be",
   "metadata": {},
   "outputs": [],
   "source": [
    "df_issue.to_csv(\"issues_stats_clean.csv\",index = False)"
   ]
  },
  {
   "cell_type": "markdown",
   "id": "d3d173b1",
   "metadata": {},
   "source": [
    "### Data Cleaning Command stats by month file"
   ]
  },
  {
   "cell_type": "code",
   "execution_count": 80,
   "id": "463c3b9f",
   "metadata": {},
   "outputs": [
    {
     "name": "stderr",
     "output_type": "stream",
     "text": [
      "/var/folders/cp/9jtgx6ps6ldg63161fmh4z840000gn/T/ipykernel_9885/1507841470.py:1: DtypeWarning: Columns (6) have mixed types. Specify dtype option on import or set low_memory=False.\n",
      "  df_jan = pd.read_csv('issue_cmds.jan22.csv')\n"
     ]
    }
   ],
   "source": [
    "df_jan = pd.read_csv('issue_cmds.jan22.csv')"
   ]
  },
  {
   "cell_type": "code",
   "execution_count": 81,
   "id": "adcd6b17",
   "metadata": {},
   "outputs": [
    {
     "name": "stderr",
     "output_type": "stream",
     "text": [
      "/var/folders/cp/9jtgx6ps6ldg63161fmh4z840000gn/T/ipykernel_9885/1678507369.py:1: DtypeWarning: Columns (6) have mixed types. Specify dtype option on import or set low_memory=False.\n",
      "  df_feb = pd.read_csv('issue_cmds.feb22.csv')\n"
     ]
    }
   ],
   "source": [
    "df_feb = pd.read_csv('issue_cmds.feb22.csv')"
   ]
  },
  {
   "cell_type": "code",
   "execution_count": 82,
   "id": "e5570ac9",
   "metadata": {},
   "outputs": [
    {
     "name": "stderr",
     "output_type": "stream",
     "text": [
      "/var/folders/cp/9jtgx6ps6ldg63161fmh4z840000gn/T/ipykernel_9885/3559866882.py:1: DtypeWarning: Columns (6) have mixed types. Specify dtype option on import or set low_memory=False.\n",
      "  df_mar = pd.read_csv('issue_cmds.mar22.csv')\n"
     ]
    }
   ],
   "source": [
    "df_mar = pd.read_csv('issue_cmds.mar22.csv')"
   ]
  },
  {
   "cell_type": "code",
   "execution_count": 83,
   "id": "531a9562",
   "metadata": {},
   "outputs": [],
   "source": [
    "df_union_com = pd.concat([df_jan,df_feb,df_mar],ignore_index=True).drop_duplicates()"
   ]
  },
  {
   "cell_type": "code",
   "execution_count": 84,
   "id": "1cbd8502",
   "metadata": {},
   "outputs": [
    {
     "data": {
      "text/html": [
       "<div>\n",
       "<style scoped>\n",
       "    .dataframe tbody tr th:only-of-type {\n",
       "        vertical-align: middle;\n",
       "    }\n",
       "\n",
       "    .dataframe tbody tr th {\n",
       "        vertical-align: top;\n",
       "    }\n",
       "\n",
       "    .dataframe thead th {\n",
       "        text-align: right;\n",
       "    }\n",
       "</style>\n",
       "<table border=\"1\" class=\"dataframe\">\n",
       "  <thead>\n",
       "    <tr style=\"text-align: right;\">\n",
       "      <th></th>\n",
       "      <th>id</th>\n",
       "      <th>start_time</th>\n",
       "      <th>offset_ms</th>\n",
       "      <th>player</th>\n",
       "      <th>type</th>\n",
       "      <th>units_number</th>\n",
       "      <th>blueprint</th>\n",
       "      <th>position_x</th>\n",
       "      <th>position_y</th>\n",
       "      <th>command_name</th>\n",
       "      <th>faf_player_id</th>\n",
       "      <th>login</th>\n",
       "      <th>rating</th>\n",
       "      <th>faction</th>\n",
       "      <th>map_name</th>\n",
       "      <th>map_thumbnail</th>\n",
       "      <th>map_width</th>\n",
       "      <th>map_height</th>\n",
       "    </tr>\n",
       "  </thead>\n",
       "  <tbody>\n",
       "    <tr>\n",
       "      <th>0</th>\n",
       "      <td>16128316</td>\n",
       "      <td>2022-01-14 20:00:38 UTC</td>\n",
       "      <td>1047300</td>\n",
       "      <td>1</td>\n",
       "      <td>issue</td>\n",
       "      <td>2</td>\n",
       "      <td>NaN</td>\n",
       "      <td>NaN</td>\n",
       "      <td>NaN</td>\n",
       "      <td>Stop</td>\n",
       "      <td>92766</td>\n",
       "      <td>Glassy</td>\n",
       "      <td>1577</td>\n",
       "      <td>Seraphim</td>\n",
       "      <td>Regor VI Highlands</td>\n",
       "      <td>https://content.faforever.com/maps/previews/la...</td>\n",
       "      <td>512</td>\n",
       "      <td>512</td>\n",
       "    </tr>\n",
       "    <tr>\n",
       "      <th>1</th>\n",
       "      <td>16178891</td>\n",
       "      <td>2022-01-21 17:44:31 UTC</td>\n",
       "      <td>927000</td>\n",
       "      <td>1</td>\n",
       "      <td>issue</td>\n",
       "      <td>1</td>\n",
       "      <td>NaN</td>\n",
       "      <td>NaN</td>\n",
       "      <td>NaN</td>\n",
       "      <td>Stop</td>\n",
       "      <td>64928</td>\n",
       "      <td>Morax</td>\n",
       "      <td>1750</td>\n",
       "      <td>UEF</td>\n",
       "      <td>White Fire - FAF version</td>\n",
       "      <td>https://content.faforever.com/maps/previews/la...</td>\n",
       "      <td>512</td>\n",
       "      <td>512</td>\n",
       "    </tr>\n",
       "    <tr>\n",
       "      <th>2</th>\n",
       "      <td>16256113</td>\n",
       "      <td>2022-01-31 11:47:12 UTC</td>\n",
       "      <td>1467100</td>\n",
       "      <td>1</td>\n",
       "      <td>issue</td>\n",
       "      <td>98</td>\n",
       "      <td>NaN</td>\n",
       "      <td>671.567932</td>\n",
       "      <td>271.30954</td>\n",
       "      <td>FormMove</td>\n",
       "      <td>108922</td>\n",
       "      <td>trandan</td>\n",
       "      <td>1772</td>\n",
       "      <td>Seraphim</td>\n",
       "      <td>The Bermuda Locket - FAF version</td>\n",
       "      <td>https://content.faforever.com/maps/previews/la...</td>\n",
       "      <td>1024</td>\n",
       "      <td>1024</td>\n",
       "    </tr>\n",
       "    <tr>\n",
       "      <th>3</th>\n",
       "      <td>16128700</td>\n",
       "      <td>2022-01-14 20:39:32 UTC</td>\n",
       "      <td>406700</td>\n",
       "      <td>1</td>\n",
       "      <td>issue</td>\n",
       "      <td>1</td>\n",
       "      <td>NaN</td>\n",
       "      <td>NaN</td>\n",
       "      <td>NaN</td>\n",
       "      <td>Stop</td>\n",
       "      <td>64928</td>\n",
       "      <td>Morax</td>\n",
       "      <td>1759</td>\n",
       "      <td>Aeon</td>\n",
       "      <td>White Fire - FAF version</td>\n",
       "      <td>https://content.faforever.com/maps/previews/la...</td>\n",
       "      <td>512</td>\n",
       "      <td>512</td>\n",
       "    </tr>\n",
       "    <tr>\n",
       "      <th>4</th>\n",
       "      <td>16031045</td>\n",
       "      <td>2022-01-01 17:56:41 UTC</td>\n",
       "      <td>659300</td>\n",
       "      <td>1</td>\n",
       "      <td>issue</td>\n",
       "      <td>1</td>\n",
       "      <td>NaN</td>\n",
       "      <td>NaN</td>\n",
       "      <td>NaN</td>\n",
       "      <td>Stop</td>\n",
       "      <td>366264</td>\n",
       "      <td>Keksyamba</td>\n",
       "      <td>636</td>\n",
       "      <td>UEF</td>\n",
       "      <td>Crossfire Canal - FAF version</td>\n",
       "      <td>https://content.faforever.com/maps/previews/la...</td>\n",
       "      <td>1024</td>\n",
       "      <td>1024</td>\n",
       "    </tr>\n",
       "  </tbody>\n",
       "</table>\n",
       "</div>"
      ],
      "text/plain": [
       "         id               start_time  offset_ms  player   type  units_number  \\\n",
       "0  16128316  2022-01-14 20:00:38 UTC    1047300       1  issue             2   \n",
       "1  16178891  2022-01-21 17:44:31 UTC     927000       1  issue             1   \n",
       "2  16256113  2022-01-31 11:47:12 UTC    1467100       1  issue            98   \n",
       "3  16128700  2022-01-14 20:39:32 UTC     406700       1  issue             1   \n",
       "4  16031045  2022-01-01 17:56:41 UTC     659300       1  issue             1   \n",
       "\n",
       "  blueprint  position_x  position_y command_name  faf_player_id      login  \\\n",
       "0       NaN         NaN         NaN         Stop          92766     Glassy   \n",
       "1       NaN         NaN         NaN         Stop          64928      Morax   \n",
       "2       NaN  671.567932   271.30954     FormMove         108922    trandan   \n",
       "3       NaN         NaN         NaN         Stop          64928      Morax   \n",
       "4       NaN         NaN         NaN         Stop         366264  Keksyamba   \n",
       "\n",
       "   rating   faction                          map_name  \\\n",
       "0    1577  Seraphim                Regor VI Highlands   \n",
       "1    1750       UEF          White Fire - FAF version   \n",
       "2    1772  Seraphim  The Bermuda Locket - FAF version   \n",
       "3    1759      Aeon          White Fire - FAF version   \n",
       "4     636       UEF     Crossfire Canal - FAF version   \n",
       "\n",
       "                                       map_thumbnail  map_width  map_height  \n",
       "0  https://content.faforever.com/maps/previews/la...        512         512  \n",
       "1  https://content.faforever.com/maps/previews/la...        512         512  \n",
       "2  https://content.faforever.com/maps/previews/la...       1024        1024  \n",
       "3  https://content.faforever.com/maps/previews/la...        512         512  \n",
       "4  https://content.faforever.com/maps/previews/la...       1024        1024  "
      ]
     },
     "execution_count": 84,
     "metadata": {},
     "output_type": "execute_result"
    }
   ],
   "source": [
    "df_union_com.head()"
   ]
  },
  {
   "cell_type": "code",
   "execution_count": 85,
   "id": "9c25bbc8",
   "metadata": {},
   "outputs": [
    {
     "data": {
      "text/plain": [
       "(28175049, 18)"
      ]
     },
     "execution_count": 85,
     "metadata": {},
     "output_type": "execute_result"
    }
   ],
   "source": [
    "df_union_com.shape"
   ]
  },
  {
   "cell_type": "code",
   "execution_count": 86,
   "id": "89b75774",
   "metadata": {},
   "outputs": [],
   "source": [
    "to_drop = ['offset_ms','player','position_x','position_y','map_thumbnail','map_width','map_height','login','rating','faction']\n",
    "df_union_com.drop(to_drop,axis = 1, inplace= True)"
   ]
  },
  {
   "cell_type": "code",
   "execution_count": 87,
   "id": "4c8a628f",
   "metadata": {},
   "outputs": [
    {
     "data": {
      "text/plain": [
       "id                      0\n",
       "start_time              0\n",
       "type                    0\n",
       "units_number            0\n",
       "blueprint        20345040\n",
       "command_name            0\n",
       "faf_player_id           0\n",
       "map_name                0\n",
       "dtype: int64"
      ]
     },
     "execution_count": 87,
     "metadata": {},
     "output_type": "execute_result"
    }
   ],
   "source": [
    "df_union_com.isnull().sum()"
   ]
  },
  {
   "cell_type": "code",
   "execution_count": 88,
   "id": "6083c5fa",
   "metadata": {},
   "outputs": [],
   "source": [
    "df_union_com[\"blueprint\"].replace(to_replace=np.nan,value=\"unknown000\",inplace=True)"
   ]
  },
  {
   "cell_type": "code",
   "execution_count": 89,
   "id": "40f99f09",
   "metadata": {},
   "outputs": [],
   "source": [
    "df_union_com.rename(columns={'id':'game_id','type':'issue_type','blueprint':'blueprint_id','faf_player_id':'player_id'},inplace = True)"
   ]
  },
  {
   "cell_type": "code",
   "execution_count": 90,
   "id": "b095e2d5",
   "metadata": {},
   "outputs": [],
   "source": [
    "df_union_com.to_csv(\"janfebmar_combine_clean.csv\",index = False)"
   ]
  },
  {
   "cell_type": "code",
   "execution_count": 96,
   "id": "5a765d6d",
   "metadata": {},
   "outputs": [
    {
     "data": {
      "text/html": [
       "<div>\n",
       "<style scoped>\n",
       "    .dataframe tbody tr th:only-of-type {\n",
       "        vertical-align: middle;\n",
       "    }\n",
       "\n",
       "    .dataframe tbody tr th {\n",
       "        vertical-align: top;\n",
       "    }\n",
       "\n",
       "    .dataframe thead th {\n",
       "        text-align: right;\n",
       "    }\n",
       "</style>\n",
       "<table border=\"1\" class=\"dataframe\">\n",
       "  <thead>\n",
       "    <tr style=\"text-align: right;\">\n",
       "      <th></th>\n",
       "      <th>game_id</th>\n",
       "      <th>start_time</th>\n",
       "      <th>issue_type</th>\n",
       "      <th>units_number</th>\n",
       "      <th>blueprint_id</th>\n",
       "      <th>command_name</th>\n",
       "      <th>player_id</th>\n",
       "      <th>map_name</th>\n",
       "    </tr>\n",
       "  </thead>\n",
       "  <tbody>\n",
       "    <tr>\n",
       "      <th>0</th>\n",
       "      <td>16128316</td>\n",
       "      <td>2022-01-14 20:00:38 UTC</td>\n",
       "      <td>issue</td>\n",
       "      <td>2</td>\n",
       "      <td>unknown000</td>\n",
       "      <td>Stop</td>\n",
       "      <td>92766</td>\n",
       "      <td>Regor VI Highlands</td>\n",
       "    </tr>\n",
       "    <tr>\n",
       "      <th>1</th>\n",
       "      <td>16178891</td>\n",
       "      <td>2022-01-21 17:44:31 UTC</td>\n",
       "      <td>issue</td>\n",
       "      <td>1</td>\n",
       "      <td>unknown000</td>\n",
       "      <td>Stop</td>\n",
       "      <td>64928</td>\n",
       "      <td>White Fire - FAF version</td>\n",
       "    </tr>\n",
       "    <tr>\n",
       "      <th>2</th>\n",
       "      <td>16256113</td>\n",
       "      <td>2022-01-31 11:47:12 UTC</td>\n",
       "      <td>issue</td>\n",
       "      <td>98</td>\n",
       "      <td>unknown000</td>\n",
       "      <td>FormMove</td>\n",
       "      <td>108922</td>\n",
       "      <td>The Bermuda Locket - FAF version</td>\n",
       "    </tr>\n",
       "    <tr>\n",
       "      <th>3</th>\n",
       "      <td>16128700</td>\n",
       "      <td>2022-01-14 20:39:32 UTC</td>\n",
       "      <td>issue</td>\n",
       "      <td>1</td>\n",
       "      <td>unknown000</td>\n",
       "      <td>Stop</td>\n",
       "      <td>64928</td>\n",
       "      <td>White Fire - FAF version</td>\n",
       "    </tr>\n",
       "    <tr>\n",
       "      <th>4</th>\n",
       "      <td>16031045</td>\n",
       "      <td>2022-01-01 17:56:41 UTC</td>\n",
       "      <td>issue</td>\n",
       "      <td>1</td>\n",
       "      <td>unknown000</td>\n",
       "      <td>Stop</td>\n",
       "      <td>366264</td>\n",
       "      <td>Crossfire Canal - FAF version</td>\n",
       "    </tr>\n",
       "  </tbody>\n",
       "</table>\n",
       "</div>"
      ],
      "text/plain": [
       "    game_id               start_time issue_type  units_number blueprint_id  \\\n",
       "0  16128316  2022-01-14 20:00:38 UTC      issue             2   unknown000   \n",
       "1  16178891  2022-01-21 17:44:31 UTC      issue             1   unknown000   \n",
       "2  16256113  2022-01-31 11:47:12 UTC      issue            98   unknown000   \n",
       "3  16128700  2022-01-14 20:39:32 UTC      issue             1   unknown000   \n",
       "4  16031045  2022-01-01 17:56:41 UTC      issue             1   unknown000   \n",
       "\n",
       "  command_name  player_id                          map_name  \n",
       "0         Stop      92766                Regor VI Highlands  \n",
       "1         Stop      64928          White Fire - FAF version  \n",
       "2     FormMove     108922  The Bermuda Locket - FAF version  \n",
       "3         Stop      64928          White Fire - FAF version  \n",
       "4         Stop     366264     Crossfire Canal - FAF version  "
      ]
     },
     "execution_count": 96,
     "metadata": {},
     "output_type": "execute_result"
    }
   ],
   "source": [
    "df_union_com.head()"
   ]
  },
  {
   "cell_type": "markdown",
   "id": "4705a5a2",
   "metadata": {},
   "source": [
    "## Testing"
   ]
  },
  {
   "cell_type": "code",
   "execution_count": 112,
   "id": "299d70c3",
   "metadata": {},
   "outputs": [],
   "source": [
    "x = df_pstats.sort_values(['game_id','player_id'],ascending=True).groupby('player_id').count().reset_index().sort_values(['game_id'],ascending=False)"
   ]
  },
  {
   "cell_type": "code",
   "execution_count": 113,
   "id": "3b1619fc",
   "metadata": {},
   "outputs": [
    {
     "data": {
      "text/html": [
       "<div>\n",
       "<style scoped>\n",
       "    .dataframe tbody tr th:only-of-type {\n",
       "        vertical-align: middle;\n",
       "    }\n",
       "\n",
       "    .dataframe tbody tr th {\n",
       "        vertical-align: top;\n",
       "    }\n",
       "\n",
       "    .dataframe thead th {\n",
       "        text-align: right;\n",
       "    }\n",
       "</style>\n",
       "<table border=\"1\" class=\"dataframe\">\n",
       "  <thead>\n",
       "    <tr style=\"text-align: right;\">\n",
       "      <th></th>\n",
       "      <th>player_id</th>\n",
       "      <th>game_id</th>\n",
       "      <th>game_validity</th>\n",
       "      <th>game_featuremod_name</th>\n",
       "      <th>game_total_players</th>\n",
       "      <th>map_id</th>\n",
       "      <th>map_name</th>\n",
       "      <th>map_width</th>\n",
       "      <th>map_height</th>\n",
       "      <th>player_login</th>\n",
       "      <th>...</th>\n",
       "      <th>player_team</th>\n",
       "      <th>player_result</th>\n",
       "      <th>player_is_computer</th>\n",
       "      <th>before_rating</th>\n",
       "      <th>after_rating</th>\n",
       "      <th>timezone</th>\n",
       "      <th>start_date</th>\n",
       "      <th>start_time</th>\n",
       "      <th>start_year</th>\n",
       "      <th>start_month</th>\n",
       "    </tr>\n",
       "  </thead>\n",
       "  <tbody>\n",
       "    <tr>\n",
       "      <th>60276</th>\n",
       "      <td>116558</td>\n",
       "      <td>23601</td>\n",
       "      <td>23601</td>\n",
       "      <td>23601</td>\n",
       "      <td>23601</td>\n",
       "      <td>23601</td>\n",
       "      <td>23601</td>\n",
       "      <td>23601</td>\n",
       "      <td>23601</td>\n",
       "      <td>23601</td>\n",
       "      <td>...</td>\n",
       "      <td>23601</td>\n",
       "      <td>23601</td>\n",
       "      <td>23601</td>\n",
       "      <td>23601</td>\n",
       "      <td>23601</td>\n",
       "      <td>23601</td>\n",
       "      <td>23601</td>\n",
       "      <td>23601</td>\n",
       "      <td>23601</td>\n",
       "      <td>23601</td>\n",
       "    </tr>\n",
       "    <tr>\n",
       "      <th>30159</th>\n",
       "      <td>65327</td>\n",
       "      <td>19063</td>\n",
       "      <td>19063</td>\n",
       "      <td>19063</td>\n",
       "      <td>19063</td>\n",
       "      <td>19063</td>\n",
       "      <td>19063</td>\n",
       "      <td>19063</td>\n",
       "      <td>19063</td>\n",
       "      <td>19063</td>\n",
       "      <td>...</td>\n",
       "      <td>19063</td>\n",
       "      <td>19063</td>\n",
       "      <td>19063</td>\n",
       "      <td>19063</td>\n",
       "      <td>19063</td>\n",
       "      <td>19063</td>\n",
       "      <td>19063</td>\n",
       "      <td>19063</td>\n",
       "      <td>19063</td>\n",
       "      <td>19063</td>\n",
       "    </tr>\n",
       "    <tr>\n",
       "      <th>7133</th>\n",
       "      <td>22745</td>\n",
       "      <td>17156</td>\n",
       "      <td>17156</td>\n",
       "      <td>17156</td>\n",
       "      <td>17156</td>\n",
       "      <td>17156</td>\n",
       "      <td>17156</td>\n",
       "      <td>17156</td>\n",
       "      <td>17156</td>\n",
       "      <td>17156</td>\n",
       "      <td>...</td>\n",
       "      <td>17156</td>\n",
       "      <td>17156</td>\n",
       "      <td>17156</td>\n",
       "      <td>17156</td>\n",
       "      <td>17156</td>\n",
       "      <td>17156</td>\n",
       "      <td>17156</td>\n",
       "      <td>17156</td>\n",
       "      <td>17156</td>\n",
       "      <td>17156</td>\n",
       "    </tr>\n",
       "    <tr>\n",
       "      <th>22177</th>\n",
       "      <td>50679</td>\n",
       "      <td>17073</td>\n",
       "      <td>17073</td>\n",
       "      <td>17073</td>\n",
       "      <td>17073</td>\n",
       "      <td>17073</td>\n",
       "      <td>17073</td>\n",
       "      <td>17073</td>\n",
       "      <td>17073</td>\n",
       "      <td>17073</td>\n",
       "      <td>...</td>\n",
       "      <td>17073</td>\n",
       "      <td>17073</td>\n",
       "      <td>17073</td>\n",
       "      <td>17073</td>\n",
       "      <td>17073</td>\n",
       "      <td>17073</td>\n",
       "      <td>17073</td>\n",
       "      <td>17073</td>\n",
       "      <td>17073</td>\n",
       "      <td>17073</td>\n",
       "    </tr>\n",
       "    <tr>\n",
       "      <th>135</th>\n",
       "      <td>361</td>\n",
       "      <td>16290</td>\n",
       "      <td>16290</td>\n",
       "      <td>16290</td>\n",
       "      <td>16290</td>\n",
       "      <td>16290</td>\n",
       "      <td>16290</td>\n",
       "      <td>16290</td>\n",
       "      <td>16290</td>\n",
       "      <td>16290</td>\n",
       "      <td>...</td>\n",
       "      <td>16290</td>\n",
       "      <td>16290</td>\n",
       "      <td>16290</td>\n",
       "      <td>16290</td>\n",
       "      <td>16290</td>\n",
       "      <td>16290</td>\n",
       "      <td>16290</td>\n",
       "      <td>16290</td>\n",
       "      <td>16290</td>\n",
       "      <td>16290</td>\n",
       "    </tr>\n",
       "    <tr>\n",
       "      <th>...</th>\n",
       "      <td>...</td>\n",
       "      <td>...</td>\n",
       "      <td>...</td>\n",
       "      <td>...</td>\n",
       "      <td>...</td>\n",
       "      <td>...</td>\n",
       "      <td>...</td>\n",
       "      <td>...</td>\n",
       "      <td>...</td>\n",
       "      <td>...</td>\n",
       "      <td>...</td>\n",
       "      <td>...</td>\n",
       "      <td>...</td>\n",
       "      <td>...</td>\n",
       "      <td>...</td>\n",
       "      <td>...</td>\n",
       "      <td>...</td>\n",
       "      <td>...</td>\n",
       "      <td>...</td>\n",
       "      <td>...</td>\n",
       "      <td>...</td>\n",
       "    </tr>\n",
       "    <tr>\n",
       "      <th>106349</th>\n",
       "      <td>193430</td>\n",
       "      <td>1</td>\n",
       "      <td>1</td>\n",
       "      <td>1</td>\n",
       "      <td>1</td>\n",
       "      <td>1</td>\n",
       "      <td>1</td>\n",
       "      <td>1</td>\n",
       "      <td>1</td>\n",
       "      <td>1</td>\n",
       "      <td>...</td>\n",
       "      <td>1</td>\n",
       "      <td>1</td>\n",
       "      <td>1</td>\n",
       "      <td>1</td>\n",
       "      <td>1</td>\n",
       "      <td>1</td>\n",
       "      <td>1</td>\n",
       "      <td>1</td>\n",
       "      <td>1</td>\n",
       "      <td>1</td>\n",
       "    </tr>\n",
       "    <tr>\n",
       "      <th>106333</th>\n",
       "      <td>193405</td>\n",
       "      <td>1</td>\n",
       "      <td>1</td>\n",
       "      <td>1</td>\n",
       "      <td>1</td>\n",
       "      <td>1</td>\n",
       "      <td>1</td>\n",
       "      <td>1</td>\n",
       "      <td>1</td>\n",
       "      <td>1</td>\n",
       "      <td>...</td>\n",
       "      <td>1</td>\n",
       "      <td>1</td>\n",
       "      <td>1</td>\n",
       "      <td>1</td>\n",
       "      <td>1</td>\n",
       "      <td>1</td>\n",
       "      <td>1</td>\n",
       "      <td>1</td>\n",
       "      <td>1</td>\n",
       "      <td>1</td>\n",
       "    </tr>\n",
       "    <tr>\n",
       "      <th>106315</th>\n",
       "      <td>193382</td>\n",
       "      <td>1</td>\n",
       "      <td>1</td>\n",
       "      <td>1</td>\n",
       "      <td>1</td>\n",
       "      <td>1</td>\n",
       "      <td>1</td>\n",
       "      <td>1</td>\n",
       "      <td>1</td>\n",
       "      <td>1</td>\n",
       "      <td>...</td>\n",
       "      <td>1</td>\n",
       "      <td>1</td>\n",
       "      <td>1</td>\n",
       "      <td>1</td>\n",
       "      <td>1</td>\n",
       "      <td>1</td>\n",
       "      <td>1</td>\n",
       "      <td>1</td>\n",
       "      <td>1</td>\n",
       "      <td>1</td>\n",
       "    </tr>\n",
       "    <tr>\n",
       "      <th>106314</th>\n",
       "      <td>193380</td>\n",
       "      <td>1</td>\n",
       "      <td>1</td>\n",
       "      <td>1</td>\n",
       "      <td>1</td>\n",
       "      <td>1</td>\n",
       "      <td>1</td>\n",
       "      <td>1</td>\n",
       "      <td>1</td>\n",
       "      <td>1</td>\n",
       "      <td>...</td>\n",
       "      <td>1</td>\n",
       "      <td>1</td>\n",
       "      <td>1</td>\n",
       "      <td>1</td>\n",
       "      <td>1</td>\n",
       "      <td>1</td>\n",
       "      <td>1</td>\n",
       "      <td>1</td>\n",
       "      <td>1</td>\n",
       "      <td>1</td>\n",
       "    </tr>\n",
       "    <tr>\n",
       "      <th>270420</th>\n",
       "      <td>449760</td>\n",
       "      <td>1</td>\n",
       "      <td>1</td>\n",
       "      <td>1</td>\n",
       "      <td>1</td>\n",
       "      <td>1</td>\n",
       "      <td>1</td>\n",
       "      <td>1</td>\n",
       "      <td>1</td>\n",
       "      <td>1</td>\n",
       "      <td>...</td>\n",
       "      <td>1</td>\n",
       "      <td>1</td>\n",
       "      <td>1</td>\n",
       "      <td>1</td>\n",
       "      <td>1</td>\n",
       "      <td>1</td>\n",
       "      <td>1</td>\n",
       "      <td>1</td>\n",
       "      <td>1</td>\n",
       "      <td>1</td>\n",
       "    </tr>\n",
       "  </tbody>\n",
       "</table>\n",
       "<p>270421 rows × 21 columns</p>\n",
       "</div>"
      ],
      "text/plain": [
       "        player_id  game_id  game_validity  game_featuremod_name  \\\n",
       "60276      116558    23601          23601                 23601   \n",
       "30159       65327    19063          19063                 19063   \n",
       "7133        22745    17156          17156                 17156   \n",
       "22177       50679    17073          17073                 17073   \n",
       "135           361    16290          16290                 16290   \n",
       "...           ...      ...            ...                   ...   \n",
       "106349     193430        1              1                     1   \n",
       "106333     193405        1              1                     1   \n",
       "106315     193382        1              1                     1   \n",
       "106314     193380        1              1                     1   \n",
       "270420     449760        1              1                     1   \n",
       "\n",
       "        game_total_players  map_id  map_name  map_width  map_height  \\\n",
       "60276                23601   23601     23601      23601       23601   \n",
       "30159                19063   19063     19063      19063       19063   \n",
       "7133                 17156   17156     17156      17156       17156   \n",
       "22177                17073   17073     17073      17073       17073   \n",
       "135                  16290   16290     16290      16290       16290   \n",
       "...                    ...     ...       ...        ...         ...   \n",
       "106349                   1       1         1          1           1   \n",
       "106333                   1       1         1          1           1   \n",
       "106315                   1       1         1          1           1   \n",
       "106314                   1       1         1          1           1   \n",
       "270420                   1       1         1          1           1   \n",
       "\n",
       "        player_login  ...  player_team  player_result  player_is_computer  \\\n",
       "60276          23601  ...        23601          23601               23601   \n",
       "30159          19063  ...        19063          19063               19063   \n",
       "7133           17156  ...        17156          17156               17156   \n",
       "22177          17073  ...        17073          17073               17073   \n",
       "135            16290  ...        16290          16290               16290   \n",
       "...              ...  ...          ...            ...                 ...   \n",
       "106349             1  ...            1              1                   1   \n",
       "106333             1  ...            1              1                   1   \n",
       "106315             1  ...            1              1                   1   \n",
       "106314             1  ...            1              1                   1   \n",
       "270420             1  ...            1              1                   1   \n",
       "\n",
       "        before_rating  after_rating  timezone  start_date  start_time  \\\n",
       "60276           23601         23601     23601       23601       23601   \n",
       "30159           19063         19063     19063       19063       19063   \n",
       "7133            17156         17156     17156       17156       17156   \n",
       "22177           17073         17073     17073       17073       17073   \n",
       "135             16290         16290     16290       16290       16290   \n",
       "...               ...           ...       ...         ...         ...   \n",
       "106349              1             1         1           1           1   \n",
       "106333              1             1         1           1           1   \n",
       "106315              1             1         1           1           1   \n",
       "106314              1             1         1           1           1   \n",
       "270420              1             1         1           1           1   \n",
       "\n",
       "        start_year  start_month  \n",
       "60276        23601        23601  \n",
       "30159        19063        19063  \n",
       "7133         17156        17156  \n",
       "22177        17073        17073  \n",
       "135          16290        16290  \n",
       "...            ...          ...  \n",
       "106349           1            1  \n",
       "106333           1            1  \n",
       "106315           1            1  \n",
       "106314           1            1  \n",
       "270420           1            1  \n",
       "\n",
       "[270421 rows x 21 columns]"
      ]
     },
     "execution_count": 113,
     "metadata": {},
     "output_type": "execute_result"
    }
   ],
   "source": [
    "x"
   ]
  },
  {
   "cell_type": "code",
   "execution_count": 114,
   "id": "c9c4ee0a",
   "metadata": {},
   "outputs": [
    {
     "data": {
      "text/plain": [
       "270421"
      ]
     },
     "execution_count": 114,
     "metadata": {},
     "output_type": "execute_result"
    }
   ],
   "source": [
    "df_pstats['player_id'].nunique()"
   ]
  },
  {
   "cell_type": "code",
   "execution_count": null,
   "id": "40d7e525",
   "metadata": {},
   "outputs": [],
   "source": []
  }
 ],
 "metadata": {
  "kernelspec": {
   "display_name": "Python 3 (ipykernel)",
   "language": "python",
   "name": "python3"
  },
  "language_info": {
   "codemirror_mode": {
    "name": "ipython",
    "version": 3
   },
   "file_extension": ".py",
   "mimetype": "text/x-python",
   "name": "python",
   "nbconvert_exporter": "python",
   "pygments_lexer": "ipython3",
   "version": "3.9.5"
  }
 },
 "nbformat": 4,
 "nbformat_minor": 5
}
